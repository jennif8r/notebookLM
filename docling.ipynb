{
  "nbformat": 4,
  "nbformat_minor": 0,
  "metadata": {
    "colab": {
      "provenance": [],
      "authorship_tag": "ABX9TyO3nWXWO60ie6Csjbs02TOt",
      "include_colab_link": true
    },
    "kernelspec": {
      "name": "python3",
      "display_name": "Python 3"
    },
    "language_info": {
      "name": "python"
    }
  },
  "cells": [
    {
      "cell_type": "markdown",
      "metadata": {
        "id": "view-in-github",
        "colab_type": "text"
      },
      "source": [
        "<a href=\"https://colab.research.google.com/github/jennif8r/notebookLM/blob/main/docling.ipynb\" target=\"_parent\"><img src=\"https://colab.research.google.com/assets/colab-badge.svg\" alt=\"Open In Colab\"/></a>"
      ]
    },
    {
      "cell_type": "code",
      "execution_count": 1,
      "metadata": {
        "colab": {
          "base_uri": "https://localhost:8080/"
        },
        "id": "wfuP-LCi64iH",
        "outputId": "aba8e2c9-5c9e-4513-a115-e8dc72a1ce1c"
      },
      "outputs": [
        {
          "output_type": "stream",
          "name": "stdout",
          "text": [
            "Requirement already satisfied: docling in /usr/local/lib/python3.10/dist-packages (2.12.0)\n",
            "Requirement already satisfied: beautifulsoup4<5.0.0,>=4.12.3 in /usr/local/lib/python3.10/dist-packages (from docling) (4.12.3)\n",
            "Requirement already satisfied: certifi>=2024.7.4 in /usr/local/lib/python3.10/dist-packages (from docling) (2024.8.30)\n",
            "Requirement already satisfied: deepsearch-glm<2.0.0,>=1.0.0 in /usr/local/lib/python3.10/dist-packages (from docling) (1.0.0)\n",
            "Requirement already satisfied: docling-core<3.0.0,>=2.9.0 in /usr/local/lib/python3.10/dist-packages (from docling-core[chunking]<3.0.0,>=2.9.0->docling) (2.10.0)\n",
            "Requirement already satisfied: docling-ibm-models<4.0.0,>=3.1.0 in /usr/local/lib/python3.10/dist-packages (from docling) (3.1.0)\n",
            "Requirement already satisfied: docling-parse<4.0.0,>=3.0.0 in /usr/local/lib/python3.10/dist-packages (from docling) (3.0.0)\n",
            "Requirement already satisfied: easyocr<2.0,>=1.7 in /usr/local/lib/python3.10/dist-packages (from docling) (1.7.2)\n",
            "Requirement already satisfied: filetype<2.0.0,>=1.2.0 in /usr/local/lib/python3.10/dist-packages (from docling) (1.2.0)\n",
            "Requirement already satisfied: huggingface_hub<1,>=0.23 in /usr/local/lib/python3.10/dist-packages (from docling) (0.26.5)\n",
            "Requirement already satisfied: lxml<6.0.0,>=4.0.0 in /usr/local/lib/python3.10/dist-packages (from docling) (5.3.0)\n",
            "Requirement already satisfied: marko<3.0.0,>=2.1.2 in /usr/local/lib/python3.10/dist-packages (from docling) (2.1.2)\n",
            "Requirement already satisfied: openpyxl<4.0.0,>=3.1.5 in /usr/local/lib/python3.10/dist-packages (from docling) (3.1.5)\n",
            "Requirement already satisfied: pandas<3.0.0,>=2.1.4 in /usr/local/lib/python3.10/dist-packages (from docling) (2.2.2)\n",
            "Requirement already satisfied: pydantic<3.0.0,>=2.0.0 in /usr/local/lib/python3.10/dist-packages (from docling) (2.10.3)\n",
            "Requirement already satisfied: pydantic-settings<3.0.0,>=2.3.0 in /usr/local/lib/python3.10/dist-packages (from docling) (2.7.0)\n",
            "Requirement already satisfied: pypdfium2<5.0.0,>=4.30.0 in /usr/local/lib/python3.10/dist-packages (from docling) (4.30.0)\n",
            "Requirement already satisfied: python-docx<2.0.0,>=1.1.2 in /usr/local/lib/python3.10/dist-packages (from docling) (1.1.2)\n",
            "Requirement already satisfied: python-pptx<2.0.0,>=1.0.2 in /usr/local/lib/python3.10/dist-packages (from docling) (1.0.2)\n",
            "Requirement already satisfied: requests<3.0.0,>=2.32.3 in /usr/local/lib/python3.10/dist-packages (from docling) (2.32.3)\n",
            "Requirement already satisfied: rtree<2.0.0,>=1.3.0 in /usr/local/lib/python3.10/dist-packages (from docling) (1.3.0)\n",
            "Requirement already satisfied: scipy<2.0.0,>=1.6.0 in /usr/local/lib/python3.10/dist-packages (from docling) (1.13.1)\n",
            "Requirement already satisfied: typer<0.13.0,>=0.12.5 in /usr/local/lib/python3.10/dist-packages (from docling) (0.12.5)\n",
            "Requirement already satisfied: soupsieve>1.2 in /usr/local/lib/python3.10/dist-packages (from beautifulsoup4<5.0.0,>=4.12.3->docling) (2.6)\n",
            "Requirement already satisfied: jsonref<2.0.0,>=1.1.0 in /usr/local/lib/python3.10/dist-packages (from docling-core<3.0.0,>=2.9.0->docling-core[chunking]<3.0.0,>=2.9.0->docling) (1.1.0)\n",
            "Requirement already satisfied: jsonschema<5.0.0,>=4.16.0 in /usr/local/lib/python3.10/dist-packages (from docling-core<3.0.0,>=2.9.0->docling-core[chunking]<3.0.0,>=2.9.0->docling) (4.23.0)\n",
            "Requirement already satisfied: pillow<11.0.0,>=10.3.0 in /usr/local/lib/python3.10/dist-packages (from docling-core<3.0.0,>=2.9.0->docling-core[chunking]<3.0.0,>=2.9.0->docling) (10.4.0)\n",
            "Requirement already satisfied: pyyaml<7.0.0,>=5.1 in /usr/local/lib/python3.10/dist-packages (from docling-core<3.0.0,>=2.9.0->docling-core[chunking]<3.0.0,>=2.9.0->docling) (6.0.2)\n",
            "Requirement already satisfied: tabulate<0.10.0,>=0.9.0 in /usr/local/lib/python3.10/dist-packages (from docling-core<3.0.0,>=2.9.0->docling-core[chunking]<3.0.0,>=2.9.0->docling) (0.9.0)\n",
            "Requirement already satisfied: typing-extensions<5.0.0,>=4.12.2 in /usr/local/lib/python3.10/dist-packages (from docling-core<3.0.0,>=2.9.0->docling-core[chunking]<3.0.0,>=2.9.0->docling) (4.12.2)\n",
            "Requirement already satisfied: semchunk<3.0.0,>=2.2.0 in /usr/local/lib/python3.10/dist-packages (from docling-core[chunking]<3.0.0,>=2.9.0->docling) (2.2.0)\n",
            "Requirement already satisfied: transformers<5.0.0,>=4.34.0 in /usr/local/lib/python3.10/dist-packages (from docling-core[chunking]<3.0.0,>=2.9.0->docling) (4.46.3)\n",
            "Requirement already satisfied: jsonlines<4.0.0,>=3.1.0 in /usr/local/lib/python3.10/dist-packages (from docling-ibm-models<4.0.0,>=3.1.0->docling) (3.1.0)\n",
            "Requirement already satisfied: numpy<3.0.0,>=1.24.4 in /usr/local/lib/python3.10/dist-packages (from docling-ibm-models<4.0.0,>=3.1.0->docling) (1.26.4)\n",
            "Requirement already satisfied: opencv-python-headless<5.0.0.0,>=4.6.0.66 in /usr/local/lib/python3.10/dist-packages (from docling-ibm-models<4.0.0,>=3.1.0->docling) (4.10.0.84)\n",
            "Requirement already satisfied: safetensors<1,>=0.4.3 in /usr/local/lib/python3.10/dist-packages (from safetensors[torch]<1,>=0.4.3->docling-ibm-models<4.0.0,>=3.1.0->docling) (0.4.5)\n",
            "Requirement already satisfied: torch<3.0.0,>=2.2.2 in /usr/local/lib/python3.10/dist-packages (from docling-ibm-models<4.0.0,>=3.1.0->docling) (2.5.1+cu121)\n",
            "Requirement already satisfied: torchvision<1,>=0 in /usr/local/lib/python3.10/dist-packages (from docling-ibm-models<4.0.0,>=3.1.0->docling) (0.20.1+cu121)\n",
            "Requirement already satisfied: tqdm<5.0.0,>=4.64.0 in /usr/local/lib/python3.10/dist-packages (from docling-ibm-models<4.0.0,>=3.1.0->docling) (4.66.6)\n",
            "Requirement already satisfied: autoflake<3.0.0,>=2.3.1 in /usr/local/lib/python3.10/dist-packages (from docling-parse<4.0.0,>=3.0.0->docling) (2.3.1)\n",
            "Requirement already satisfied: scikit-image in /usr/local/lib/python3.10/dist-packages (from easyocr<2.0,>=1.7->docling) (0.24.0)\n",
            "Requirement already satisfied: python-bidi in /usr/local/lib/python3.10/dist-packages (from easyocr<2.0,>=1.7->docling) (0.6.3)\n",
            "Requirement already satisfied: Shapely in /usr/local/lib/python3.10/dist-packages (from easyocr<2.0,>=1.7->docling) (2.0.6)\n",
            "Requirement already satisfied: pyclipper in /usr/local/lib/python3.10/dist-packages (from easyocr<2.0,>=1.7->docling) (1.3.0.post6)\n",
            "Requirement already satisfied: ninja in /usr/local/lib/python3.10/dist-packages (from easyocr<2.0,>=1.7->docling) (1.11.1.2)\n",
            "Requirement already satisfied: filelock in /usr/local/lib/python3.10/dist-packages (from huggingface_hub<1,>=0.23->docling) (3.16.1)\n",
            "Requirement already satisfied: fsspec>=2023.5.0 in /usr/local/lib/python3.10/dist-packages (from huggingface_hub<1,>=0.23->docling) (2024.10.0)\n",
            "Requirement already satisfied: packaging>=20.9 in /usr/local/lib/python3.10/dist-packages (from huggingface_hub<1,>=0.23->docling) (24.2)\n",
            "Requirement already satisfied: et-xmlfile in /usr/local/lib/python3.10/dist-packages (from openpyxl<4.0.0,>=3.1.5->docling) (2.0.0)\n",
            "Requirement already satisfied: python-dateutil>=2.8.2 in /usr/local/lib/python3.10/dist-packages (from pandas<3.0.0,>=2.1.4->docling) (2.8.2)\n",
            "Requirement already satisfied: pytz>=2020.1 in /usr/local/lib/python3.10/dist-packages (from pandas<3.0.0,>=2.1.4->docling) (2024.2)\n",
            "Requirement already satisfied: tzdata>=2022.7 in /usr/local/lib/python3.10/dist-packages (from pandas<3.0.0,>=2.1.4->docling) (2024.2)\n",
            "Requirement already satisfied: annotated-types>=0.6.0 in /usr/local/lib/python3.10/dist-packages (from pydantic<3.0.0,>=2.0.0->docling) (0.7.0)\n",
            "Requirement already satisfied: pydantic-core==2.27.1 in /usr/local/lib/python3.10/dist-packages (from pydantic<3.0.0,>=2.0.0->docling) (2.27.1)\n",
            "Requirement already satisfied: python-dotenv>=0.21.0 in /usr/local/lib/python3.10/dist-packages (from pydantic-settings<3.0.0,>=2.3.0->docling) (1.0.1)\n",
            "Requirement already satisfied: XlsxWriter>=0.5.7 in /usr/local/lib/python3.10/dist-packages (from python-pptx<2.0.0,>=1.0.2->docling) (3.2.0)\n",
            "Requirement already satisfied: charset-normalizer<4,>=2 in /usr/local/lib/python3.10/dist-packages (from requests<3.0.0,>=2.32.3->docling) (3.4.0)\n",
            "Requirement already satisfied: idna<4,>=2.5 in /usr/local/lib/python3.10/dist-packages (from requests<3.0.0,>=2.32.3->docling) (3.10)\n",
            "Requirement already satisfied: urllib3<3,>=1.21.1 in /usr/local/lib/python3.10/dist-packages (from requests<3.0.0,>=2.32.3->docling) (2.2.3)\n",
            "Requirement already satisfied: click>=8.0.0 in /usr/local/lib/python3.10/dist-packages (from typer<0.13.0,>=0.12.5->docling) (8.1.7)\n",
            "Requirement already satisfied: shellingham>=1.3.0 in /usr/local/lib/python3.10/dist-packages (from typer<0.13.0,>=0.12.5->docling) (1.5.4)\n",
            "Requirement already satisfied: rich>=10.11.0 in /usr/local/lib/python3.10/dist-packages (from typer<0.13.0,>=0.12.5->docling) (13.9.4)\n",
            "Requirement already satisfied: pyflakes>=3.0.0 in /usr/local/lib/python3.10/dist-packages (from autoflake<3.0.0,>=2.3.1->docling-parse<4.0.0,>=3.0.0->docling) (3.2.0)\n",
            "Requirement already satisfied: tomli>=2.0.1 in /usr/local/lib/python3.10/dist-packages (from autoflake<3.0.0,>=2.3.1->docling-parse<4.0.0,>=3.0.0->docling) (2.2.1)\n",
            "Requirement already satisfied: attrs>=19.2.0 in /usr/local/lib/python3.10/dist-packages (from jsonlines<4.0.0,>=3.1.0->docling-ibm-models<4.0.0,>=3.1.0->docling) (24.2.0)\n",
            "Requirement already satisfied: jsonschema-specifications>=2023.03.6 in /usr/local/lib/python3.10/dist-packages (from jsonschema<5.0.0,>=4.16.0->docling-core<3.0.0,>=2.9.0->docling-core[chunking]<3.0.0,>=2.9.0->docling) (2024.10.1)\n",
            "Requirement already satisfied: referencing>=0.28.4 in /usr/local/lib/python3.10/dist-packages (from jsonschema<5.0.0,>=4.16.0->docling-core<3.0.0,>=2.9.0->docling-core[chunking]<3.0.0,>=2.9.0->docling) (0.35.1)\n",
            "Requirement already satisfied: rpds-py>=0.7.1 in /usr/local/lib/python3.10/dist-packages (from jsonschema<5.0.0,>=4.16.0->docling-core<3.0.0,>=2.9.0->docling-core[chunking]<3.0.0,>=2.9.0->docling) (0.22.3)\n",
            "Requirement already satisfied: six>=1.5 in /usr/local/lib/python3.10/dist-packages (from python-dateutil>=2.8.2->pandas<3.0.0,>=2.1.4->docling) (1.17.0)\n",
            "Requirement already satisfied: markdown-it-py>=2.2.0 in /usr/local/lib/python3.10/dist-packages (from rich>=10.11.0->typer<0.13.0,>=0.12.5->docling) (3.0.0)\n",
            "Requirement already satisfied: pygments<3.0.0,>=2.13.0 in /usr/local/lib/python3.10/dist-packages (from rich>=10.11.0->typer<0.13.0,>=0.12.5->docling) (2.18.0)\n",
            "Requirement already satisfied: mpire[dill] in /usr/local/lib/python3.10/dist-packages (from semchunk<3.0.0,>=2.2.0->docling-core[chunking]<3.0.0,>=2.9.0->docling) (2.10.2)\n",
            "Requirement already satisfied: networkx in /usr/local/lib/python3.10/dist-packages (from torch<3.0.0,>=2.2.2->docling-ibm-models<4.0.0,>=3.1.0->docling) (3.4.2)\n",
            "Requirement already satisfied: jinja2 in /usr/local/lib/python3.10/dist-packages (from torch<3.0.0,>=2.2.2->docling-ibm-models<4.0.0,>=3.1.0->docling) (3.1.4)\n",
            "Requirement already satisfied: sympy==1.13.1 in /usr/local/lib/python3.10/dist-packages (from torch<3.0.0,>=2.2.2->docling-ibm-models<4.0.0,>=3.1.0->docling) (1.13.1)\n",
            "Requirement already satisfied: mpmath<1.4,>=1.1.0 in /usr/local/lib/python3.10/dist-packages (from sympy==1.13.1->torch<3.0.0,>=2.2.2->docling-ibm-models<4.0.0,>=3.1.0->docling) (1.3.0)\n",
            "Requirement already satisfied: regex!=2019.12.17 in /usr/local/lib/python3.10/dist-packages (from transformers<5.0.0,>=4.34.0->docling-core[chunking]<3.0.0,>=2.9.0->docling) (2024.9.11)\n",
            "Requirement already satisfied: tokenizers<0.21,>=0.20 in /usr/local/lib/python3.10/dist-packages (from transformers<5.0.0,>=4.34.0->docling-core[chunking]<3.0.0,>=2.9.0->docling) (0.20.3)\n",
            "Requirement already satisfied: imageio>=2.33 in /usr/local/lib/python3.10/dist-packages (from scikit-image->easyocr<2.0,>=1.7->docling) (2.36.1)\n",
            "Requirement already satisfied: tifffile>=2022.8.12 in /usr/local/lib/python3.10/dist-packages (from scikit-image->easyocr<2.0,>=1.7->docling) (2024.9.20)\n",
            "Requirement already satisfied: lazy-loader>=0.4 in /usr/local/lib/python3.10/dist-packages (from scikit-image->easyocr<2.0,>=1.7->docling) (0.4)\n",
            "Requirement already satisfied: mdurl~=0.1 in /usr/local/lib/python3.10/dist-packages (from markdown-it-py>=2.2.0->rich>=10.11.0->typer<0.13.0,>=0.12.5->docling) (0.1.2)\n",
            "Requirement already satisfied: MarkupSafe>=2.0 in /usr/local/lib/python3.10/dist-packages (from jinja2->torch<3.0.0,>=2.2.2->docling-ibm-models<4.0.0,>=3.1.0->docling) (3.0.2)\n",
            "Requirement already satisfied: multiprocess in /usr/local/lib/python3.10/dist-packages (from mpire[dill]->semchunk<3.0.0,>=2.2.0->docling-core[chunking]<3.0.0,>=2.9.0->docling) (0.70.17)\n",
            "Requirement already satisfied: dill>=0.3.9 in /usr/local/lib/python3.10/dist-packages (from multiprocess->mpire[dill]->semchunk<3.0.0,>=2.2.0->docling-core[chunking]<3.0.0,>=2.9.0->docling) (0.3.9)\n"
          ]
        }
      ],
      "source": [
        "pip install docling"
      ]
    },
    {
      "cell_type": "code",
      "source": [
        "pip install whisper langchain chromadb cohere pypdfium2 langchain-community"
      ],
      "metadata": {
        "id": "uqGPRMKJ7T2Q",
        "outputId": "41a70e72-786d-4302-f7a1-7a549f02b7be",
        "colab": {
          "base_uri": "https://localhost:8080/"
        }
      },
      "execution_count": 3,
      "outputs": [
        {
          "output_type": "stream",
          "name": "stdout",
          "text": [
            "Requirement already satisfied: whisper in /usr/local/lib/python3.10/dist-packages (1.1.10)\n",
            "Requirement already satisfied: langchain in /usr/local/lib/python3.10/dist-packages (0.3.11)\n",
            "Requirement already satisfied: chromadb in /usr/local/lib/python3.10/dist-packages (0.5.23)\n",
            "Requirement already satisfied: cohere in /usr/local/lib/python3.10/dist-packages (5.13.3)\n",
            "Requirement already satisfied: pypdfium2 in /usr/local/lib/python3.10/dist-packages (4.30.0)\n",
            "Requirement already satisfied: langchain-community in /usr/local/lib/python3.10/dist-packages (0.3.11)\n",
            "Requirement already satisfied: six in /usr/local/lib/python3.10/dist-packages (from whisper) (1.17.0)\n",
            "Requirement already satisfied: PyYAML>=5.3 in /usr/local/lib/python3.10/dist-packages (from langchain) (6.0.2)\n",
            "Requirement already satisfied: SQLAlchemy<3,>=1.4 in /usr/local/lib/python3.10/dist-packages (from langchain) (2.0.36)\n",
            "Requirement already satisfied: aiohttp<4.0.0,>=3.8.3 in /usr/local/lib/python3.10/dist-packages (from langchain) (3.11.10)\n",
            "Requirement already satisfied: async-timeout<5.0.0,>=4.0.0 in /usr/local/lib/python3.10/dist-packages (from langchain) (4.0.3)\n",
            "Requirement already satisfied: langchain-core<0.4.0,>=0.3.24 in /usr/local/lib/python3.10/dist-packages (from langchain) (0.3.24)\n",
            "Requirement already satisfied: langchain-text-splitters<0.4.0,>=0.3.0 in /usr/local/lib/python3.10/dist-packages (from langchain) (0.3.2)\n",
            "Requirement already satisfied: langsmith<0.3,>=0.1.17 in /usr/local/lib/python3.10/dist-packages (from langchain) (0.2.2)\n",
            "Requirement already satisfied: numpy<2,>=1.22.4 in /usr/local/lib/python3.10/dist-packages (from langchain) (1.26.4)\n",
            "Requirement already satisfied: pydantic<3.0.0,>=2.7.4 in /usr/local/lib/python3.10/dist-packages (from langchain) (2.10.3)\n",
            "Requirement already satisfied: requests<3,>=2 in /usr/local/lib/python3.10/dist-packages (from langchain) (2.32.3)\n",
            "Requirement already satisfied: tenacity!=8.4.0,<10,>=8.1.0 in /usr/local/lib/python3.10/dist-packages (from langchain) (9.0.0)\n",
            "Requirement already satisfied: build>=1.0.3 in /usr/local/lib/python3.10/dist-packages (from chromadb) (1.2.2.post1)\n",
            "Requirement already satisfied: chroma-hnswlib==0.7.6 in /usr/local/lib/python3.10/dist-packages (from chromadb) (0.7.6)\n",
            "Requirement already satisfied: fastapi>=0.95.2 in /usr/local/lib/python3.10/dist-packages (from chromadb) (0.115.6)\n",
            "Requirement already satisfied: uvicorn>=0.18.3 in /usr/local/lib/python3.10/dist-packages (from uvicorn[standard]>=0.18.3->chromadb) (0.33.0)\n",
            "Requirement already satisfied: posthog>=2.4.0 in /usr/local/lib/python3.10/dist-packages (from chromadb) (3.7.4)\n",
            "Requirement already satisfied: typing_extensions>=4.5.0 in /usr/local/lib/python3.10/dist-packages (from chromadb) (4.12.2)\n",
            "Requirement already satisfied: onnxruntime>=1.14.1 in /usr/local/lib/python3.10/dist-packages (from chromadb) (1.20.1)\n",
            "Requirement already satisfied: opentelemetry-api>=1.2.0 in /usr/local/lib/python3.10/dist-packages (from chromadb) (1.29.0)\n",
            "Requirement already satisfied: opentelemetry-exporter-otlp-proto-grpc>=1.2.0 in /usr/local/lib/python3.10/dist-packages (from chromadb) (1.29.0)\n",
            "Requirement already satisfied: opentelemetry-instrumentation-fastapi>=0.41b0 in /usr/local/lib/python3.10/dist-packages (from chromadb) (0.50b0)\n",
            "Requirement already satisfied: opentelemetry-sdk>=1.2.0 in /usr/local/lib/python3.10/dist-packages (from chromadb) (1.29.0)\n",
            "Requirement already satisfied: tokenizers<=0.20.3,>=0.13.2 in /usr/local/lib/python3.10/dist-packages (from chromadb) (0.20.3)\n",
            "Requirement already satisfied: pypika>=0.48.9 in /usr/local/lib/python3.10/dist-packages (from chromadb) (0.48.9)\n",
            "Requirement already satisfied: tqdm>=4.65.0 in /usr/local/lib/python3.10/dist-packages (from chromadb) (4.66.6)\n",
            "Requirement already satisfied: overrides>=7.3.1 in /usr/local/lib/python3.10/dist-packages (from chromadb) (7.7.0)\n",
            "Requirement already satisfied: importlib-resources in /usr/local/lib/python3.10/dist-packages (from chromadb) (6.4.5)\n",
            "Requirement already satisfied: grpcio>=1.58.0 in /usr/local/lib/python3.10/dist-packages (from chromadb) (1.68.1)\n",
            "Requirement already satisfied: bcrypt>=4.0.1 in /usr/local/lib/python3.10/dist-packages (from chromadb) (4.2.1)\n",
            "Requirement already satisfied: typer>=0.9.0 in /usr/local/lib/python3.10/dist-packages (from chromadb) (0.12.5)\n",
            "Requirement already satisfied: kubernetes>=28.1.0 in /usr/local/lib/python3.10/dist-packages (from chromadb) (31.0.0)\n",
            "Requirement already satisfied: mmh3>=4.0.1 in /usr/local/lib/python3.10/dist-packages (from chromadb) (5.0.1)\n",
            "Requirement already satisfied: orjson>=3.9.12 in /usr/local/lib/python3.10/dist-packages (from chromadb) (3.10.12)\n",
            "Requirement already satisfied: httpx>=0.27.0 in /usr/local/lib/python3.10/dist-packages (from chromadb) (0.28.1)\n",
            "Requirement already satisfied: rich>=10.11.0 in /usr/local/lib/python3.10/dist-packages (from chromadb) (13.9.4)\n",
            "Requirement already satisfied: fastavro<2.0.0,>=1.9.4 in /usr/local/lib/python3.10/dist-packages (from cohere) (1.9.7)\n",
            "Requirement already satisfied: httpx-sse==0.4.0 in /usr/local/lib/python3.10/dist-packages (from cohere) (0.4.0)\n",
            "Requirement already satisfied: parameterized<0.10.0,>=0.9.0 in /usr/local/lib/python3.10/dist-packages (from cohere) (0.9.0)\n",
            "Requirement already satisfied: pydantic-core<3.0.0,>=2.18.2 in /usr/local/lib/python3.10/dist-packages (from cohere) (2.27.1)\n",
            "Requirement already satisfied: types-requests<3.0.0,>=2.0.0 in /usr/local/lib/python3.10/dist-packages (from cohere) (2.32.0.20241016)\n",
            "Requirement already satisfied: dataclasses-json<0.7,>=0.5.7 in /usr/local/lib/python3.10/dist-packages (from langchain-community) (0.6.7)\n",
            "Requirement already satisfied: pydantic-settings<3.0.0,>=2.4.0 in /usr/local/lib/python3.10/dist-packages (from langchain-community) (2.7.0)\n",
            "Requirement already satisfied: aiohappyeyeballs>=2.3.0 in /usr/local/lib/python3.10/dist-packages (from aiohttp<4.0.0,>=3.8.3->langchain) (2.4.4)\n",
            "Requirement already satisfied: aiosignal>=1.1.2 in /usr/local/lib/python3.10/dist-packages (from aiohttp<4.0.0,>=3.8.3->langchain) (1.3.1)\n",
            "Requirement already satisfied: attrs>=17.3.0 in /usr/local/lib/python3.10/dist-packages (from aiohttp<4.0.0,>=3.8.3->langchain) (24.2.0)\n",
            "Requirement already satisfied: frozenlist>=1.1.1 in /usr/local/lib/python3.10/dist-packages (from aiohttp<4.0.0,>=3.8.3->langchain) (1.5.0)\n",
            "Requirement already satisfied: multidict<7.0,>=4.5 in /usr/local/lib/python3.10/dist-packages (from aiohttp<4.0.0,>=3.8.3->langchain) (6.1.0)\n",
            "Requirement already satisfied: propcache>=0.2.0 in /usr/local/lib/python3.10/dist-packages (from aiohttp<4.0.0,>=3.8.3->langchain) (0.2.1)\n",
            "Requirement already satisfied: yarl<2.0,>=1.17.0 in /usr/local/lib/python3.10/dist-packages (from aiohttp<4.0.0,>=3.8.3->langchain) (1.18.3)\n",
            "Requirement already satisfied: packaging>=19.1 in /usr/local/lib/python3.10/dist-packages (from build>=1.0.3->chromadb) (24.2)\n",
            "Requirement already satisfied: pyproject_hooks in /usr/local/lib/python3.10/dist-packages (from build>=1.0.3->chromadb) (1.2.0)\n",
            "Requirement already satisfied: tomli>=1.1.0 in /usr/local/lib/python3.10/dist-packages (from build>=1.0.3->chromadb) (2.2.1)\n",
            "Requirement already satisfied: marshmallow<4.0.0,>=3.18.0 in /usr/local/lib/python3.10/dist-packages (from dataclasses-json<0.7,>=0.5.7->langchain-community) (3.23.1)\n",
            "Requirement already satisfied: typing-inspect<1,>=0.4.0 in /usr/local/lib/python3.10/dist-packages (from dataclasses-json<0.7,>=0.5.7->langchain-community) (0.9.0)\n",
            "Requirement already satisfied: starlette<0.42.0,>=0.40.0 in /usr/local/lib/python3.10/dist-packages (from fastapi>=0.95.2->chromadb) (0.41.3)\n",
            "Requirement already satisfied: anyio in /usr/local/lib/python3.10/dist-packages (from httpx>=0.27.0->chromadb) (3.7.1)\n",
            "Requirement already satisfied: certifi in /usr/local/lib/python3.10/dist-packages (from httpx>=0.27.0->chromadb) (2024.8.30)\n",
            "Requirement already satisfied: httpcore==1.* in /usr/local/lib/python3.10/dist-packages (from httpx>=0.27.0->chromadb) (1.0.7)\n",
            "Requirement already satisfied: idna in /usr/local/lib/python3.10/dist-packages (from httpx>=0.27.0->chromadb) (3.10)\n",
            "Requirement already satisfied: h11<0.15,>=0.13 in /usr/local/lib/python3.10/dist-packages (from httpcore==1.*->httpx>=0.27.0->chromadb) (0.14.0)\n",
            "Requirement already satisfied: python-dateutil>=2.5.3 in /usr/local/lib/python3.10/dist-packages (from kubernetes>=28.1.0->chromadb) (2.8.2)\n",
            "Requirement already satisfied: google-auth>=1.0.1 in /usr/local/lib/python3.10/dist-packages (from kubernetes>=28.1.0->chromadb) (2.27.0)\n",
            "Requirement already satisfied: websocket-client!=0.40.0,!=0.41.*,!=0.42.*,>=0.32.0 in /usr/local/lib/python3.10/dist-packages (from kubernetes>=28.1.0->chromadb) (1.8.0)\n",
            "Requirement already satisfied: requests-oauthlib in /usr/local/lib/python3.10/dist-packages (from kubernetes>=28.1.0->chromadb) (1.3.1)\n",
            "Requirement already satisfied: oauthlib>=3.2.2 in /usr/local/lib/python3.10/dist-packages (from kubernetes>=28.1.0->chromadb) (3.2.2)\n",
            "Requirement already satisfied: urllib3>=1.24.2 in /usr/local/lib/python3.10/dist-packages (from kubernetes>=28.1.0->chromadb) (2.2.3)\n",
            "Requirement already satisfied: durationpy>=0.7 in /usr/local/lib/python3.10/dist-packages (from kubernetes>=28.1.0->chromadb) (0.9)\n",
            "Requirement already satisfied: jsonpatch<2.0,>=1.33 in /usr/local/lib/python3.10/dist-packages (from langchain-core<0.4.0,>=0.3.24->langchain) (1.33)\n",
            "Requirement already satisfied: requests-toolbelt<2.0.0,>=1.0.0 in /usr/local/lib/python3.10/dist-packages (from langsmith<0.3,>=0.1.17->langchain) (1.0.0)\n",
            "Requirement already satisfied: coloredlogs in /usr/local/lib/python3.10/dist-packages (from onnxruntime>=1.14.1->chromadb) (15.0.1)\n",
            "Requirement already satisfied: flatbuffers in /usr/local/lib/python3.10/dist-packages (from onnxruntime>=1.14.1->chromadb) (24.3.25)\n",
            "Requirement already satisfied: protobuf in /usr/local/lib/python3.10/dist-packages (from onnxruntime>=1.14.1->chromadb) (5.29.1)\n",
            "Requirement already satisfied: sympy in /usr/local/lib/python3.10/dist-packages (from onnxruntime>=1.14.1->chromadb) (1.13.1)\n",
            "Requirement already satisfied: deprecated>=1.2.6 in /usr/local/lib/python3.10/dist-packages (from opentelemetry-api>=1.2.0->chromadb) (1.2.15)\n",
            "Requirement already satisfied: importlib-metadata<=8.5.0,>=6.0 in /usr/local/lib/python3.10/dist-packages (from opentelemetry-api>=1.2.0->chromadb) (8.5.0)\n",
            "Requirement already satisfied: googleapis-common-protos~=1.52 in /usr/local/lib/python3.10/dist-packages (from opentelemetry-exporter-otlp-proto-grpc>=1.2.0->chromadb) (1.66.0)\n",
            "Requirement already satisfied: opentelemetry-exporter-otlp-proto-common==1.29.0 in /usr/local/lib/python3.10/dist-packages (from opentelemetry-exporter-otlp-proto-grpc>=1.2.0->chromadb) (1.29.0)\n",
            "Requirement already satisfied: opentelemetry-proto==1.29.0 in /usr/local/lib/python3.10/dist-packages (from opentelemetry-exporter-otlp-proto-grpc>=1.2.0->chromadb) (1.29.0)\n",
            "Requirement already satisfied: opentelemetry-instrumentation-asgi==0.50b0 in /usr/local/lib/python3.10/dist-packages (from opentelemetry-instrumentation-fastapi>=0.41b0->chromadb) (0.50b0)\n",
            "Requirement already satisfied: opentelemetry-instrumentation==0.50b0 in /usr/local/lib/python3.10/dist-packages (from opentelemetry-instrumentation-fastapi>=0.41b0->chromadb) (0.50b0)\n",
            "Requirement already satisfied: opentelemetry-semantic-conventions==0.50b0 in /usr/local/lib/python3.10/dist-packages (from opentelemetry-instrumentation-fastapi>=0.41b0->chromadb) (0.50b0)\n",
            "Requirement already satisfied: opentelemetry-util-http==0.50b0 in /usr/local/lib/python3.10/dist-packages (from opentelemetry-instrumentation-fastapi>=0.41b0->chromadb) (0.50b0)\n",
            "Requirement already satisfied: wrapt<2.0.0,>=1.0.0 in /usr/local/lib/python3.10/dist-packages (from opentelemetry-instrumentation==0.50b0->opentelemetry-instrumentation-fastapi>=0.41b0->chromadb) (1.17.0)\n",
            "Requirement already satisfied: asgiref~=3.0 in /usr/local/lib/python3.10/dist-packages (from opentelemetry-instrumentation-asgi==0.50b0->opentelemetry-instrumentation-fastapi>=0.41b0->chromadb) (3.8.1)\n",
            "Requirement already satisfied: monotonic>=1.5 in /usr/local/lib/python3.10/dist-packages (from posthog>=2.4.0->chromadb) (1.6)\n",
            "Requirement already satisfied: backoff>=1.10.0 in /usr/local/lib/python3.10/dist-packages (from posthog>=2.4.0->chromadb) (2.2.1)\n",
            "Requirement already satisfied: annotated-types>=0.6.0 in /usr/local/lib/python3.10/dist-packages (from pydantic<3.0.0,>=2.7.4->langchain) (0.7.0)\n",
            "Requirement already satisfied: python-dotenv>=0.21.0 in /usr/local/lib/python3.10/dist-packages (from pydantic-settings<3.0.0,>=2.4.0->langchain-community) (1.0.1)\n",
            "Requirement already satisfied: charset-normalizer<4,>=2 in /usr/local/lib/python3.10/dist-packages (from requests<3,>=2->langchain) (3.4.0)\n",
            "Requirement already satisfied: markdown-it-py>=2.2.0 in /usr/local/lib/python3.10/dist-packages (from rich>=10.11.0->chromadb) (3.0.0)\n",
            "Requirement already satisfied: pygments<3.0.0,>=2.13.0 in /usr/local/lib/python3.10/dist-packages (from rich>=10.11.0->chromadb) (2.18.0)\n",
            "Requirement already satisfied: greenlet!=0.4.17 in /usr/local/lib/python3.10/dist-packages (from SQLAlchemy<3,>=1.4->langchain) (3.1.1)\n",
            "Requirement already satisfied: huggingface-hub<1.0,>=0.16.4 in /usr/local/lib/python3.10/dist-packages (from tokenizers<=0.20.3,>=0.13.2->chromadb) (0.26.5)\n",
            "Requirement already satisfied: click>=8.0.0 in /usr/local/lib/python3.10/dist-packages (from typer>=0.9.0->chromadb) (8.1.7)\n",
            "Requirement already satisfied: shellingham>=1.3.0 in /usr/local/lib/python3.10/dist-packages (from typer>=0.9.0->chromadb) (1.5.4)\n",
            "Requirement already satisfied: httptools>=0.6.3 in /usr/local/lib/python3.10/dist-packages (from uvicorn[standard]>=0.18.3->chromadb) (0.6.4)\n",
            "Requirement already satisfied: uvloop!=0.15.0,!=0.15.1,>=0.14.0 in /usr/local/lib/python3.10/dist-packages (from uvicorn[standard]>=0.18.3->chromadb) (0.21.0)\n",
            "Requirement already satisfied: watchfiles>=0.13 in /usr/local/lib/python3.10/dist-packages (from uvicorn[standard]>=0.18.3->chromadb) (1.0.3)\n",
            "Requirement already satisfied: websockets>=10.4 in /usr/local/lib/python3.10/dist-packages (from uvicorn[standard]>=0.18.3->chromadb) (14.1)\n",
            "Requirement already satisfied: cachetools<6.0,>=2.0.0 in /usr/local/lib/python3.10/dist-packages (from google-auth>=1.0.1->kubernetes>=28.1.0->chromadb) (5.5.0)\n",
            "Requirement already satisfied: pyasn1-modules>=0.2.1 in /usr/local/lib/python3.10/dist-packages (from google-auth>=1.0.1->kubernetes>=28.1.0->chromadb) (0.4.1)\n",
            "Requirement already satisfied: rsa<5,>=3.1.4 in /usr/local/lib/python3.10/dist-packages (from google-auth>=1.0.1->kubernetes>=28.1.0->chromadb) (4.9)\n",
            "Requirement already satisfied: filelock in /usr/local/lib/python3.10/dist-packages (from huggingface-hub<1.0,>=0.16.4->tokenizers<=0.20.3,>=0.13.2->chromadb) (3.16.1)\n",
            "Requirement already satisfied: fsspec>=2023.5.0 in /usr/local/lib/python3.10/dist-packages (from huggingface-hub<1.0,>=0.16.4->tokenizers<=0.20.3,>=0.13.2->chromadb) (2024.10.0)\n",
            "Requirement already satisfied: zipp>=3.20 in /usr/local/lib/python3.10/dist-packages (from importlib-metadata<=8.5.0,>=6.0->opentelemetry-api>=1.2.0->chromadb) (3.21.0)\n",
            "Requirement already satisfied: jsonpointer>=1.9 in /usr/local/lib/python3.10/dist-packages (from jsonpatch<2.0,>=1.33->langchain-core<0.4.0,>=0.3.24->langchain) (3.0.0)\n",
            "Requirement already satisfied: mdurl~=0.1 in /usr/local/lib/python3.10/dist-packages (from markdown-it-py>=2.2.0->rich>=10.11.0->chromadb) (0.1.2)\n",
            "Requirement already satisfied: sniffio>=1.1 in /usr/local/lib/python3.10/dist-packages (from anyio->httpx>=0.27.0->chromadb) (1.3.1)\n",
            "Requirement already satisfied: exceptiongroup in /usr/local/lib/python3.10/dist-packages (from anyio->httpx>=0.27.0->chromadb) (1.2.2)\n",
            "Requirement already satisfied: mypy-extensions>=0.3.0 in /usr/local/lib/python3.10/dist-packages (from typing-inspect<1,>=0.4.0->dataclasses-json<0.7,>=0.5.7->langchain-community) (1.0.0)\n",
            "Requirement already satisfied: humanfriendly>=9.1 in /usr/local/lib/python3.10/dist-packages (from coloredlogs->onnxruntime>=1.14.1->chromadb) (10.0)\n",
            "Requirement already satisfied: mpmath<1.4,>=1.1.0 in /usr/local/lib/python3.10/dist-packages (from sympy->onnxruntime>=1.14.1->chromadb) (1.3.0)\n",
            "Requirement already satisfied: pyasn1<0.7.0,>=0.4.6 in /usr/local/lib/python3.10/dist-packages (from pyasn1-modules>=0.2.1->google-auth>=1.0.1->kubernetes>=28.1.0->chromadb) (0.6.1)\n"
          ]
        }
      ]
    },
    {
      "cell_type": "markdown",
      "source": [
        "#Tabela e texto\n"
      ],
      "metadata": {
        "id": "_u_hAmpJLuah"
      }
    },
    {
      "cell_type": "markdown",
      "source": [
        "##Passo 1: Configuração e Inicialização\n"
      ],
      "metadata": {
        "id": "O8ximR4ML499"
      }
    },
    {
      "cell_type": "code",
      "source": [
        "import json\n",
        "import yaml\n",
        "import logging\n",
        "from time import time\n",
        "import os\n",
        "import uuid\n",
        "import chromadb\n",
        "from chromadb.config import Settings\n",
        "from cohere import Client\n",
        "from langchain.text_splitter import RecursiveCharacterTextSplitter\n",
        "from pathlib import Path\n",
        "import pandas as pd\n",
        "from docling.backend.pypdfium2_backend import PyPdfiumDocumentBackend\n",
        "from docling.datamodel.base_models import InputFormat\n",
        "from docling.document_converter import (\n",
        "    DocumentConverter,\n",
        "    PdfFormatOption,\n",
        "    WordFormatOption,\n",
        ")\n",
        "from docling.pipeline.simple_pipeline import SimplePipeline\n",
        "from docling.pipeline.standard_pdf_pipeline import StandardPdfPipeline\n",
        "\n",
        "# Inicializar cliente Cohere\n",
        "cohere_api_key = \"senha\"\n",
        "cohere_client = Client(api_key=cohere_api_key)\n",
        "\n",
        "# Configurar cliente ChromaDB\n",
        "client = chromadb.Client()\n",
        "collection_dimensions = 768  # Dimensão vetorial\n"
      ],
      "metadata": {
        "id": "i5Hm0TU07Rp0"
      },
      "execution_count": 30,
      "outputs": []
    },
    {
      "cell_type": "markdown",
      "source": [
        "###Passo 2: Função para Extrair Conteúdo e Tabelas\n"
      ],
      "metadata": {
        "id": "cuZUyS-hL9LR"
      }
    },
    {
      "cell_type": "markdown",
      "source": [
        "###[desatualizado]"
      ],
      "metadata": {
        "id": "X55rcYYxJDyw"
      }
    },
    {
      "cell_type": "code",
      "source": [
        "def extract_content_and_tables_from_file(file_path):\n",
        "    converter = DocumentConverter()\n",
        "\n",
        "    # Converte o arquivo\n",
        "    result = converter.convert(file_path)\n",
        "    document = result.document\n",
        "\n",
        "    # Extrair conteúdo textual\n",
        "    text_content = document.export_to_text()\n",
        "\n",
        "    # Extrair tabelas\n",
        "    tables = []\n",
        "    for table_ix, table in enumerate(document.tables):\n",
        "        table_df = table.export_to_dataframe()\n",
        "        tables.append({\n",
        "            'index': table_ix + 1,\n",
        "            'data': table_df\n",
        "        })\n",
        "\n",
        "    return text_content, tables\n"
      ],
      "metadata": {
        "id": "Rxg_JBN4L7HQ"
      },
      "execution_count": 79,
      "outputs": []
    },
    {
      "cell_type": "markdown",
      "source": [
        "Teste este código para verificar se o conteúdo e as tabelas estão sendo extraídos corretamente:\n"
      ],
      "metadata": {
        "id": "_XKIEMbyMZB2"
      }
    },
    {
      "cell_type": "code",
      "source": [
        "file_path = \"/content/example_01.html\"\n",
        "text_content, tables = extract_content_and_tables_from_file(file_path)\n",
        "print(\"Conteúdo extraído:\\n\", text_content)\n",
        "for table in tables:\n",
        "    print(f\"Tabela {table['index']}:\\n\", table['data'])\n"
      ],
      "metadata": {
        "colab": {
          "base_uri": "https://localhost:8080/"
        },
        "id": "izGouJMcMZX4",
        "outputId": "575a8b3e-46fa-4d38-d16d-6a3fa442d394"
      },
      "execution_count": 81,
      "outputs": [
        {
          "output_type": "stream",
          "name": "stdout",
          "text": [
            "Conteúdo extraído:\n",
            " Introduction\n",
            "\n",
            "This is the first paragraph of the introduction.\n",
            "\n",
            "Background\n",
            "\n",
            "Some background information here.\n",
            "\n",
            "<missing-text>\n",
            "\n",
            " First item in unordered list\n",
            "\n",
            " Second item in unordered list\n",
            "\n",
            " First item in ordered list\n",
            "\n",
            " Second item in ordered list\n"
          ]
        }
      ]
    },
    {
      "cell_type": "markdown",
      "source": [
        "###[Atualização]\n",
        "\n",
        "Arquivo como TXT e CSV que não são processados pela biblioteca irei converter para algum tipo de arquivo que a biblioteca aceita.\n",
        "\n",
        "Foi testado com os seguintes arquivos e funcionou:\n",
        "- mp3, m4a e ogg\n",
        "-docx, md, xlsx, csv, pptx, html, txt, pdf,png"
      ],
      "metadata": {
        "id": "kmZHzvLPoTp-"
      }
    },
    {
      "cell_type": "code",
      "source": [
        "pip install pandas openpyxl fpdf\n"
      ],
      "metadata": {
        "colab": {
          "base_uri": "https://localhost:8080/"
        },
        "id": "K5xRcx_RopvV",
        "outputId": "43cdd63d-ba18-4264-9528-4fd6f1ab5dcd"
      },
      "execution_count": 43,
      "outputs": [
        {
          "output_type": "stream",
          "name": "stdout",
          "text": [
            "Requirement already satisfied: pandas in /usr/local/lib/python3.10/dist-packages (2.2.2)\n",
            "Requirement already satisfied: openpyxl in /usr/local/lib/python3.10/dist-packages (3.1.5)\n",
            "Collecting fpdf\n",
            "  Downloading fpdf-1.7.2.tar.gz (39 kB)\n",
            "  Preparing metadata (setup.py) ... \u001b[?25l\u001b[?25hdone\n",
            "Requirement already satisfied: docling in /usr/local/lib/python3.10/dist-packages (2.12.0)\n",
            "Requirement already satisfied: numpy>=1.22.4 in /usr/local/lib/python3.10/dist-packages (from pandas) (1.26.4)\n",
            "Requirement already satisfied: python-dateutil>=2.8.2 in /usr/local/lib/python3.10/dist-packages (from pandas) (2.8.2)\n",
            "Requirement already satisfied: pytz>=2020.1 in /usr/local/lib/python3.10/dist-packages (from pandas) (2024.2)\n",
            "Requirement already satisfied: tzdata>=2022.7 in /usr/local/lib/python3.10/dist-packages (from pandas) (2024.2)\n",
            "Requirement already satisfied: et-xmlfile in /usr/local/lib/python3.10/dist-packages (from openpyxl) (2.0.0)\n",
            "Requirement already satisfied: beautifulsoup4<5.0.0,>=4.12.3 in /usr/local/lib/python3.10/dist-packages (from docling) (4.12.3)\n",
            "Requirement already satisfied: certifi>=2024.7.4 in /usr/local/lib/python3.10/dist-packages (from docling) (2024.8.30)\n",
            "Requirement already satisfied: deepsearch-glm<2.0.0,>=1.0.0 in /usr/local/lib/python3.10/dist-packages (from docling) (1.0.0)\n",
            "Requirement already satisfied: docling-core<3.0.0,>=2.9.0 in /usr/local/lib/python3.10/dist-packages (from docling-core[chunking]<3.0.0,>=2.9.0->docling) (2.10.0)\n",
            "Requirement already satisfied: docling-ibm-models<4.0.0,>=3.1.0 in /usr/local/lib/python3.10/dist-packages (from docling) (3.1.0)\n",
            "Requirement already satisfied: docling-parse<4.0.0,>=3.0.0 in /usr/local/lib/python3.10/dist-packages (from docling) (3.0.0)\n",
            "Requirement already satisfied: easyocr<2.0,>=1.7 in /usr/local/lib/python3.10/dist-packages (from docling) (1.7.2)\n",
            "Requirement already satisfied: filetype<2.0.0,>=1.2.0 in /usr/local/lib/python3.10/dist-packages (from docling) (1.2.0)\n",
            "Requirement already satisfied: huggingface_hub<1,>=0.23 in /usr/local/lib/python3.10/dist-packages (from docling) (0.26.5)\n",
            "Requirement already satisfied: lxml<6.0.0,>=4.0.0 in /usr/local/lib/python3.10/dist-packages (from docling) (5.3.0)\n",
            "Requirement already satisfied: marko<3.0.0,>=2.1.2 in /usr/local/lib/python3.10/dist-packages (from docling) (2.1.2)\n",
            "Requirement already satisfied: pydantic<3.0.0,>=2.0.0 in /usr/local/lib/python3.10/dist-packages (from docling) (2.10.3)\n",
            "Requirement already satisfied: pydantic-settings<3.0.0,>=2.3.0 in /usr/local/lib/python3.10/dist-packages (from docling) (2.7.0)\n",
            "Requirement already satisfied: pypdfium2<5.0.0,>=4.30.0 in /usr/local/lib/python3.10/dist-packages (from docling) (4.30.0)\n",
            "Requirement already satisfied: python-docx<2.0.0,>=1.1.2 in /usr/local/lib/python3.10/dist-packages (from docling) (1.1.2)\n",
            "Requirement already satisfied: python-pptx<2.0.0,>=1.0.2 in /usr/local/lib/python3.10/dist-packages (from docling) (1.0.2)\n",
            "Requirement already satisfied: requests<3.0.0,>=2.32.3 in /usr/local/lib/python3.10/dist-packages (from docling) (2.32.3)\n",
            "Requirement already satisfied: rtree<2.0.0,>=1.3.0 in /usr/local/lib/python3.10/dist-packages (from docling) (1.3.0)\n",
            "Requirement already satisfied: scipy<2.0.0,>=1.6.0 in /usr/local/lib/python3.10/dist-packages (from docling) (1.13.1)\n",
            "Requirement already satisfied: typer<0.13.0,>=0.12.5 in /usr/local/lib/python3.10/dist-packages (from docling) (0.12.5)\n",
            "Requirement already satisfied: soupsieve>1.2 in /usr/local/lib/python3.10/dist-packages (from beautifulsoup4<5.0.0,>=4.12.3->docling) (2.6)\n",
            "Requirement already satisfied: jsonref<2.0.0,>=1.1.0 in /usr/local/lib/python3.10/dist-packages (from docling-core<3.0.0,>=2.9.0->docling-core[chunking]<3.0.0,>=2.9.0->docling) (1.1.0)\n",
            "Requirement already satisfied: jsonschema<5.0.0,>=4.16.0 in /usr/local/lib/python3.10/dist-packages (from docling-core<3.0.0,>=2.9.0->docling-core[chunking]<3.0.0,>=2.9.0->docling) (4.23.0)\n",
            "Requirement already satisfied: pillow<11.0.0,>=10.3.0 in /usr/local/lib/python3.10/dist-packages (from docling-core<3.0.0,>=2.9.0->docling-core[chunking]<3.0.0,>=2.9.0->docling) (10.4.0)\n",
            "Requirement already satisfied: pyyaml<7.0.0,>=5.1 in /usr/local/lib/python3.10/dist-packages (from docling-core<3.0.0,>=2.9.0->docling-core[chunking]<3.0.0,>=2.9.0->docling) (6.0.2)\n",
            "Requirement already satisfied: tabulate<0.10.0,>=0.9.0 in /usr/local/lib/python3.10/dist-packages (from docling-core<3.0.0,>=2.9.0->docling-core[chunking]<3.0.0,>=2.9.0->docling) (0.9.0)\n",
            "Requirement already satisfied: typing-extensions<5.0.0,>=4.12.2 in /usr/local/lib/python3.10/dist-packages (from docling-core<3.0.0,>=2.9.0->docling-core[chunking]<3.0.0,>=2.9.0->docling) (4.12.2)\n",
            "Requirement already satisfied: semchunk<3.0.0,>=2.2.0 in /usr/local/lib/python3.10/dist-packages (from docling-core[chunking]<3.0.0,>=2.9.0->docling) (2.2.0)\n",
            "Requirement already satisfied: transformers<5.0.0,>=4.34.0 in /usr/local/lib/python3.10/dist-packages (from docling-core[chunking]<3.0.0,>=2.9.0->docling) (4.46.3)\n",
            "Requirement already satisfied: jsonlines<4.0.0,>=3.1.0 in /usr/local/lib/python3.10/dist-packages (from docling-ibm-models<4.0.0,>=3.1.0->docling) (3.1.0)\n",
            "Requirement already satisfied: opencv-python-headless<5.0.0.0,>=4.6.0.66 in /usr/local/lib/python3.10/dist-packages (from docling-ibm-models<4.0.0,>=3.1.0->docling) (4.10.0.84)\n",
            "Requirement already satisfied: safetensors<1,>=0.4.3 in /usr/local/lib/python3.10/dist-packages (from safetensors[torch]<1,>=0.4.3->docling-ibm-models<4.0.0,>=3.1.0->docling) (0.4.5)\n",
            "Requirement already satisfied: torch<3.0.0,>=2.2.2 in /usr/local/lib/python3.10/dist-packages (from docling-ibm-models<4.0.0,>=3.1.0->docling) (2.5.1+cu121)\n",
            "Requirement already satisfied: torchvision<1,>=0 in /usr/local/lib/python3.10/dist-packages (from docling-ibm-models<4.0.0,>=3.1.0->docling) (0.20.1+cu121)\n",
            "Requirement already satisfied: tqdm<5.0.0,>=4.64.0 in /usr/local/lib/python3.10/dist-packages (from docling-ibm-models<4.0.0,>=3.1.0->docling) (4.66.6)\n",
            "Requirement already satisfied: autoflake<3.0.0,>=2.3.1 in /usr/local/lib/python3.10/dist-packages (from docling-parse<4.0.0,>=3.0.0->docling) (2.3.1)\n",
            "Requirement already satisfied: scikit-image in /usr/local/lib/python3.10/dist-packages (from easyocr<2.0,>=1.7->docling) (0.24.0)\n",
            "Requirement already satisfied: python-bidi in /usr/local/lib/python3.10/dist-packages (from easyocr<2.0,>=1.7->docling) (0.6.3)\n",
            "Requirement already satisfied: Shapely in /usr/local/lib/python3.10/dist-packages (from easyocr<2.0,>=1.7->docling) (2.0.6)\n",
            "Requirement already satisfied: pyclipper in /usr/local/lib/python3.10/dist-packages (from easyocr<2.0,>=1.7->docling) (1.3.0.post6)\n",
            "Requirement already satisfied: ninja in /usr/local/lib/python3.10/dist-packages (from easyocr<2.0,>=1.7->docling) (1.11.1.2)\n",
            "Requirement already satisfied: filelock in /usr/local/lib/python3.10/dist-packages (from huggingface_hub<1,>=0.23->docling) (3.16.1)\n",
            "Requirement already satisfied: fsspec>=2023.5.0 in /usr/local/lib/python3.10/dist-packages (from huggingface_hub<1,>=0.23->docling) (2024.10.0)\n",
            "Requirement already satisfied: packaging>=20.9 in /usr/local/lib/python3.10/dist-packages (from huggingface_hub<1,>=0.23->docling) (24.2)\n",
            "Requirement already satisfied: annotated-types>=0.6.0 in /usr/local/lib/python3.10/dist-packages (from pydantic<3.0.0,>=2.0.0->docling) (0.7.0)\n",
            "Requirement already satisfied: pydantic-core==2.27.1 in /usr/local/lib/python3.10/dist-packages (from pydantic<3.0.0,>=2.0.0->docling) (2.27.1)\n",
            "Requirement already satisfied: python-dotenv>=0.21.0 in /usr/local/lib/python3.10/dist-packages (from pydantic-settings<3.0.0,>=2.3.0->docling) (1.0.1)\n",
            "Requirement already satisfied: six>=1.5 in /usr/local/lib/python3.10/dist-packages (from python-dateutil>=2.8.2->pandas) (1.17.0)\n",
            "Requirement already satisfied: XlsxWriter>=0.5.7 in /usr/local/lib/python3.10/dist-packages (from python-pptx<2.0.0,>=1.0.2->docling) (3.2.0)\n",
            "Requirement already satisfied: charset-normalizer<4,>=2 in /usr/local/lib/python3.10/dist-packages (from requests<3.0.0,>=2.32.3->docling) (3.4.0)\n",
            "Requirement already satisfied: idna<4,>=2.5 in /usr/local/lib/python3.10/dist-packages (from requests<3.0.0,>=2.32.3->docling) (3.10)\n",
            "Requirement already satisfied: urllib3<3,>=1.21.1 in /usr/local/lib/python3.10/dist-packages (from requests<3.0.0,>=2.32.3->docling) (2.2.3)\n",
            "Requirement already satisfied: click>=8.0.0 in /usr/local/lib/python3.10/dist-packages (from typer<0.13.0,>=0.12.5->docling) (8.1.7)\n",
            "Requirement already satisfied: shellingham>=1.3.0 in /usr/local/lib/python3.10/dist-packages (from typer<0.13.0,>=0.12.5->docling) (1.5.4)\n",
            "Requirement already satisfied: rich>=10.11.0 in /usr/local/lib/python3.10/dist-packages (from typer<0.13.0,>=0.12.5->docling) (13.9.4)\n",
            "Requirement already satisfied: pyflakes>=3.0.0 in /usr/local/lib/python3.10/dist-packages (from autoflake<3.0.0,>=2.3.1->docling-parse<4.0.0,>=3.0.0->docling) (3.2.0)\n",
            "Requirement already satisfied: tomli>=2.0.1 in /usr/local/lib/python3.10/dist-packages (from autoflake<3.0.0,>=2.3.1->docling-parse<4.0.0,>=3.0.0->docling) (2.2.1)\n",
            "Requirement already satisfied: attrs>=19.2.0 in /usr/local/lib/python3.10/dist-packages (from jsonlines<4.0.0,>=3.1.0->docling-ibm-models<4.0.0,>=3.1.0->docling) (24.2.0)\n",
            "Requirement already satisfied: jsonschema-specifications>=2023.03.6 in /usr/local/lib/python3.10/dist-packages (from jsonschema<5.0.0,>=4.16.0->docling-core<3.0.0,>=2.9.0->docling-core[chunking]<3.0.0,>=2.9.0->docling) (2024.10.1)\n",
            "Requirement already satisfied: referencing>=0.28.4 in /usr/local/lib/python3.10/dist-packages (from jsonschema<5.0.0,>=4.16.0->docling-core<3.0.0,>=2.9.0->docling-core[chunking]<3.0.0,>=2.9.0->docling) (0.35.1)\n",
            "Requirement already satisfied: rpds-py>=0.7.1 in /usr/local/lib/python3.10/dist-packages (from jsonschema<5.0.0,>=4.16.0->docling-core<3.0.0,>=2.9.0->docling-core[chunking]<3.0.0,>=2.9.0->docling) (0.22.3)\n",
            "Requirement already satisfied: markdown-it-py>=2.2.0 in /usr/local/lib/python3.10/dist-packages (from rich>=10.11.0->typer<0.13.0,>=0.12.5->docling) (3.0.0)\n",
            "Requirement already satisfied: pygments<3.0.0,>=2.13.0 in /usr/local/lib/python3.10/dist-packages (from rich>=10.11.0->typer<0.13.0,>=0.12.5->docling) (2.18.0)\n",
            "Requirement already satisfied: mpire[dill] in /usr/local/lib/python3.10/dist-packages (from semchunk<3.0.0,>=2.2.0->docling-core[chunking]<3.0.0,>=2.9.0->docling) (2.10.2)\n",
            "Requirement already satisfied: networkx in /usr/local/lib/python3.10/dist-packages (from torch<3.0.0,>=2.2.2->docling-ibm-models<4.0.0,>=3.1.0->docling) (3.4.2)\n",
            "Requirement already satisfied: jinja2 in /usr/local/lib/python3.10/dist-packages (from torch<3.0.0,>=2.2.2->docling-ibm-models<4.0.0,>=3.1.0->docling) (3.1.4)\n",
            "Requirement already satisfied: sympy==1.13.1 in /usr/local/lib/python3.10/dist-packages (from torch<3.0.0,>=2.2.2->docling-ibm-models<4.0.0,>=3.1.0->docling) (1.13.1)\n",
            "Requirement already satisfied: mpmath<1.4,>=1.1.0 in /usr/local/lib/python3.10/dist-packages (from sympy==1.13.1->torch<3.0.0,>=2.2.2->docling-ibm-models<4.0.0,>=3.1.0->docling) (1.3.0)\n",
            "Requirement already satisfied: regex!=2019.12.17 in /usr/local/lib/python3.10/dist-packages (from transformers<5.0.0,>=4.34.0->docling-core[chunking]<3.0.0,>=2.9.0->docling) (2024.9.11)\n",
            "Requirement already satisfied: tokenizers<0.21,>=0.20 in /usr/local/lib/python3.10/dist-packages (from transformers<5.0.0,>=4.34.0->docling-core[chunking]<3.0.0,>=2.9.0->docling) (0.20.3)\n",
            "Requirement already satisfied: imageio>=2.33 in /usr/local/lib/python3.10/dist-packages (from scikit-image->easyocr<2.0,>=1.7->docling) (2.36.1)\n",
            "Requirement already satisfied: tifffile>=2022.8.12 in /usr/local/lib/python3.10/dist-packages (from scikit-image->easyocr<2.0,>=1.7->docling) (2024.9.20)\n",
            "Requirement already satisfied: lazy-loader>=0.4 in /usr/local/lib/python3.10/dist-packages (from scikit-image->easyocr<2.0,>=1.7->docling) (0.4)\n",
            "Requirement already satisfied: mdurl~=0.1 in /usr/local/lib/python3.10/dist-packages (from markdown-it-py>=2.2.0->rich>=10.11.0->typer<0.13.0,>=0.12.5->docling) (0.1.2)\n",
            "Requirement already satisfied: MarkupSafe>=2.0 in /usr/local/lib/python3.10/dist-packages (from jinja2->torch<3.0.0,>=2.2.2->docling-ibm-models<4.0.0,>=3.1.0->docling) (3.0.2)\n",
            "Requirement already satisfied: multiprocess in /usr/local/lib/python3.10/dist-packages (from mpire[dill]->semchunk<3.0.0,>=2.2.0->docling-core[chunking]<3.0.0,>=2.9.0->docling) (0.70.17)\n",
            "Requirement already satisfied: dill>=0.3.9 in /usr/local/lib/python3.10/dist-packages (from multiprocess->mpire[dill]->semchunk<3.0.0,>=2.2.0->docling-core[chunking]<3.0.0,>=2.9.0->docling) (0.3.9)\n",
            "Building wheels for collected packages: fpdf\n",
            "  Building wheel for fpdf (setup.py) ... \u001b[?25l\u001b[?25hdone\n",
            "  Created wheel for fpdf: filename=fpdf-1.7.2-py2.py3-none-any.whl size=40704 sha256=c31e2e22d6ec0ca405581c937566b59c0ebf794390777ce7821c774d05d28e64\n",
            "  Stored in directory: /root/.cache/pip/wheels/f9/95/ba/f418094659025eb9611f17cbcaf2334236bf39a0c3453ea455\n",
            "Successfully built fpdf\n",
            "Installing collected packages: fpdf\n",
            "Successfully installed fpdf-1.7.2\n"
          ]
        }
      ]
    },
    {
      "cell_type": "code",
      "source": [
        "pip install openai-whisper\n"
      ],
      "metadata": {
        "colab": {
          "base_uri": "https://localhost:8080/"
        },
        "id": "kUzm0achyWTb",
        "outputId": "3e6f1ae2-ee60-42e1-e28b-440e2218ae5d"
      },
      "execution_count": 1,
      "outputs": [
        {
          "output_type": "stream",
          "name": "stdout",
          "text": [
            "Requirement already satisfied: openai-whisper in /usr/local/lib/python3.10/dist-packages (20240930)\n",
            "Requirement already satisfied: numba in /usr/local/lib/python3.10/dist-packages (from openai-whisper) (0.60.0)\n",
            "Requirement already satisfied: numpy in /usr/local/lib/python3.10/dist-packages (from openai-whisper) (1.26.4)\n",
            "Requirement already satisfied: torch in /usr/local/lib/python3.10/dist-packages (from openai-whisper) (2.5.1+cu121)\n",
            "Requirement already satisfied: tqdm in /usr/local/lib/python3.10/dist-packages (from openai-whisper) (4.66.6)\n",
            "Requirement already satisfied: more-itertools in /usr/local/lib/python3.10/dist-packages (from openai-whisper) (10.5.0)\n",
            "Requirement already satisfied: tiktoken in /usr/local/lib/python3.10/dist-packages (from openai-whisper) (0.8.0)\n",
            "Requirement already satisfied: triton>=2.0.0 in /usr/local/lib/python3.10/dist-packages (from openai-whisper) (3.1.0)\n",
            "Requirement already satisfied: filelock in /usr/local/lib/python3.10/dist-packages (from triton>=2.0.0->openai-whisper) (3.16.1)\n",
            "Requirement already satisfied: llvmlite<0.44,>=0.43.0dev0 in /usr/local/lib/python3.10/dist-packages (from numba->openai-whisper) (0.43.0)\n",
            "Requirement already satisfied: regex>=2022.1.18 in /usr/local/lib/python3.10/dist-packages (from tiktoken->openai-whisper) (2024.9.11)\n",
            "Requirement already satisfied: requests>=2.26.0 in /usr/local/lib/python3.10/dist-packages (from tiktoken->openai-whisper) (2.32.3)\n",
            "Requirement already satisfied: typing-extensions>=4.8.0 in /usr/local/lib/python3.10/dist-packages (from torch->openai-whisper) (4.12.2)\n",
            "Requirement already satisfied: networkx in /usr/local/lib/python3.10/dist-packages (from torch->openai-whisper) (3.4.2)\n",
            "Requirement already satisfied: jinja2 in /usr/local/lib/python3.10/dist-packages (from torch->openai-whisper) (3.1.4)\n",
            "Requirement already satisfied: fsspec in /usr/local/lib/python3.10/dist-packages (from torch->openai-whisper) (2024.10.0)\n",
            "Requirement already satisfied: sympy==1.13.1 in /usr/local/lib/python3.10/dist-packages (from torch->openai-whisper) (1.13.1)\n",
            "Requirement already satisfied: mpmath<1.4,>=1.1.0 in /usr/local/lib/python3.10/dist-packages (from sympy==1.13.1->torch->openai-whisper) (1.3.0)\n",
            "Requirement already satisfied: charset-normalizer<4,>=2 in /usr/local/lib/python3.10/dist-packages (from requests>=2.26.0->tiktoken->openai-whisper) (3.4.0)\n",
            "Requirement already satisfied: idna<4,>=2.5 in /usr/local/lib/python3.10/dist-packages (from requests>=2.26.0->tiktoken->openai-whisper) (3.10)\n",
            "Requirement already satisfied: urllib3<3,>=1.21.1 in /usr/local/lib/python3.10/dist-packages (from requests>=2.26.0->tiktoken->openai-whisper) (2.2.3)\n",
            "Requirement already satisfied: certifi>=2017.4.17 in /usr/local/lib/python3.10/dist-packages (from requests>=2.26.0->tiktoken->openai-whisper) (2024.8.30)\n",
            "Requirement already satisfied: MarkupSafe>=2.0 in /usr/local/lib/python3.10/dist-packages (from jinja2->torch->openai-whisper) (3.0.2)\n"
          ]
        }
      ]
    },
    {
      "cell_type": "code",
      "source": [
        "import json\n",
        "from pathlib import Path\n",
        "import pandas as pd\n",
        "from fpdf import FPDF\n",
        "from docling.document_converter import DocumentConverter\n",
        "import whisper\n",
        "\n",
        "\n",
        "# Configurações globais de arquivos suportados\n",
        "WHISPER_SUPPORTED_AUDIO = ['.mp3', '.ogg', '.wav', '.flac', '.m4a']\n",
        "DOCLING_SUPPORTED_FILES = ['.md', '.html', '.docx', '.pptx', '.png', '.pdf','.xlsx']\n",
        "ADDITIONAL_CONVERTED_FILES = ['.txt', '.csv']\n",
        "\n",
        "\n",
        "def transcribe_audio(file_path):\n",
        "    \"\"\"Transcreve o áudio usando Whisper.\"\"\"\n",
        "    try:\n",
        "        model = whisper.load_model(\"base\")\n",
        "        result = model.transcribe(str(file_path), language=\"pt\")\n",
        "        return result['text']\n",
        "    except Exception as e:\n",
        "        return f\"Erro ao transcrever o áudio: {e}\"\n",
        "\n",
        "\n",
        "def convert_to_supported_format(file_path):\n",
        "    \"\"\"\n",
        "    Converte arquivos TXT e CSV para um formato suportado pela biblioteca docling.\n",
        "    Retorna o caminho do arquivo convertido.\n",
        "    \"\"\"\n",
        "    file_path = Path(file_path)\n",
        "    if file_path.suffix.lower() == '.txt':\n",
        "        pdf_path = file_path.with_suffix('.pdf')\n",
        "        txt_to_pdf(file_path, pdf_path)\n",
        "        return pdf_path\n",
        "    elif file_path.suffix.lower() == '.csv':\n",
        "        xlsx_path = file_path.with_suffix('.xlsx')\n",
        "        csv_to_xlsx(file_path, xlsx_path)\n",
        "        return xlsx_path\n",
        "    return file_path  # Retorna o arquivo original se não precisar de conversão\n",
        "\n",
        "\n",
        "def txt_to_pdf(txt_file, pdf_file):\n",
        "    \"\"\"Converte um arquivo TXT para PDF usando FPDF.\"\"\"\n",
        "    pdf = FPDF()\n",
        "    pdf.set_auto_page_break(auto=True, margin=15)\n",
        "    pdf.add_page()\n",
        "    pdf.set_font(\"Arial\", size=12)\n",
        "    with open(txt_file, 'r', encoding='utf-8') as file:\n",
        "        for line in file:\n",
        "            pdf.cell(0, 10, line.strip(), ln=True)\n",
        "    pdf.output(pdf_file)\n",
        "    print(f\"Arquivo TXT convertido para PDF: {pdf_file}\")\n",
        "\n",
        "\n",
        "def csv_to_xlsx(csv_file, xlsx_file):\n",
        "    \"\"\"Converte um arquivo CSV para XLSX usando Pandas.\"\"\"\n",
        "    df = pd.read_csv(csv_file)\n",
        "    df.to_excel(xlsx_file, index=False, engine='openpyxl')\n",
        "    print(f\"Arquivo CSV convertido para XLSX: {xlsx_file}\")\n",
        "\n",
        "\n",
        "def extract_content_and_tables(file_path):\n",
        "    \"\"\"\n",
        "    Extrai conteúdo textual e tabelas de um arquivo usando a biblioteca docling.\n",
        "    \"\"\"\n",
        "    try:\n",
        "        supported_file = convert_to_supported_format(file_path)\n",
        "        converter = DocumentConverter()\n",
        "        result = converter.convert(supported_file)\n",
        "        document = result.document\n",
        "\n",
        "        text_content = document.export_to_text()\n",
        "        tables = [\n",
        "            {'index': idx + 1, 'data': table.export_to_dataframe()}\n",
        "            for idx, table in enumerate(document.tables)\n",
        "        ]\n",
        "        return text_content, tables\n",
        "    except Exception as e:\n",
        "        return f\"Erro ao processar o documento: {e}\", []\n",
        "\n",
        "\n",
        "def is_supported_audio(file_path):\n",
        "    \"\"\"Verifica se o arquivo é um formato de áudio suportado pelo Whisper.\"\"\"\n",
        "    return file_path.suffix.lower() in WHISPER_SUPPORTED_AUDIO\n",
        "\n",
        "\n",
        "def is_supported_document(file_path):\n",
        "    \"\"\"Verifica se o arquivo é um formato de documento suportado pelo Docling.\"\"\"\n",
        "    return file_path.suffix.lower() in DOCLING_SUPPORTED_FILES + ADDITIONAL_CONVERTED_FILES\n",
        "\n",
        "\n",
        "def process_file(file_path):\n",
        "    \"\"\"\n",
        "    Processa o arquivo com base em seu tipo:\n",
        "    - Se for áudio, transcreve.\n",
        "    - Se for documento, extrai texto e tabelas.\n",
        "    - Caso contrário, informa que o tipo de arquivo não é suportado.\n",
        "    \"\"\"\n",
        "    file_path = Path(file_path)\n",
        "\n",
        "    if is_supported_audio(file_path):\n",
        "        print(f\"Arquivo de áudio detectado: {file_path.name}\")\n",
        "        print(f\"Formatos suportados: {', '.join(WHISPER_SUPPORTED_AUDIO)}\")\n",
        "        return transcribe_audio(file_path), None\n",
        "\n",
        "    elif is_supported_document(file_path):\n",
        "        print(f\"Arquivo de documento detectado: {file_path.name}\")\n",
        "        print(f\"Formatos suportados: {', '.join(DOCLING_SUPPORTED_FILES + ADDITIONAL_CONVERTED_FILES)}\")\n",
        "        return extract_content_and_tables(file_path)\n",
        "\n",
        "    else:\n",
        "        print(f\"Tipo de arquivo não suportado: {file_path.suffix}\")\n",
        "        print(\"Por favor, tente outro arquivo.\")\n",
        "        print(f\"Formatos suportados pelo Whisper: {', '.join(WHISPER_SUPPORTED_AUDIO)}\")\n",
        "        print(f\"Formatos suportados pelo Docling: {', '.join(DOCLING_SUPPORTED_FILES + ADDITIONAL_CONVERTED_FILES)}\")\n",
        "        return None, None\n",
        "\n",
        "\n",
        "def display_results(text_content, tables):\n",
        "    \"\"\"Exibe o conteúdo textual e as tabelas extraídas.\"\"\"\n",
        "    if text_content:\n",
        "        print(\"Conteúdo textual extraído:\")\n",
        "        print(\"=\" * 50)\n",
        "        print(text_content if isinstance(text_content, str) else \"Nenhum conteúdo textual encontrado.\")\n",
        "        print(\"=\" * 50)\n",
        "    else:\n",
        "        print(\"Nenhum conteúdo textual extraído.\")\n",
        "\n",
        "    if tables:\n",
        "        print(f\"\\nForam encontradas {len(tables)} tabela(s):\")\n",
        "        for table in tables:\n",
        "            print(f\"\\nTabela {table['index']}:\\n\")\n",
        "            print(table['data'])\n",
        "    else:\n",
        "        print(\"\\nNenhuma tabela encontrada no arquivo.\")\n",
        "\n",
        "\n",
        "# Exemplo de uso\n",
        "if __name__ == \"__main__\":\n",
        "    file_path = \"/content/2305.03393v1-pg9-img.png\"  # Substitua pelo caminho do arquivo\n",
        "    text_content, tables = process_file(file_path)\n",
        "    display_results(text_content, tables)\n"
      ],
      "metadata": {
        "colab": {
          "base_uri": "https://localhost:8080/"
        },
        "id": "mKnkA_i6onwG",
        "outputId": "116bc16a-4bb6-46f2-b8d5-0676f427829d"
      },
      "execution_count": 116,
      "outputs": [
        {
          "output_type": "stream",
          "name": "stdout",
          "text": [
            "Arquivo de documento detectado: 2305.03393v1-pg9-img.png\n",
            "Formatos suportados: .md, .html, .docx, .pptx, .png, .pdf, .xlsx, .txt, .csv\n",
            "Conteúdo textual extraído:\n",
            "==================================================\n",
            "order to compute the TED score. Inference timing results for all experiments were obtained from the same machine On a single core with AMD EPYC 7763 CPU @2.45 GHz.\n",
            "\n",
            "5.1 Hyper Parameter Optimization\n",
            "\n",
            "We have chosen the PubIabNet data set to perform HPO, since it includes à highly diverse set of tables. Also we report TED scores separately for simple and complex tables (tables with cell spans) Results are presented in Table. It is evident that with OTSL, our model achieves the same TED score and slightly better mAP scores in comparison to HIML. However OISL yields a 2r speed up in the inference runtime over HIML.\n",
            "\n",
            "<missing-text>\n",
            "\n",
            "5.2 Quantitative Results\n",
            "\n",
            "We picked the model parameter configuration that produced the best prediction quality (enc=6, dec=6, heads=8) with PubTabNet  alone; then independently trained and evaluated it on three publicly available data sets: Pub TabNet (395k samples) , FinlabNet (1l3k samples) and PubTables-IM (about IM samples) Performance results are presented in Table.@] It is clearly evident that the model trained on OTSL outperforms HTML across the board; keeping high TEDs and mAP scores evell OIl difficult financial tables (FinTabNet) that contain sparse and tables. large\n",
            "\n",
            "Additionally; the results show that OTSL has aIl advantage OvCI HTML when applied on a bigger data set like PubTables-IM and achieves significantly improved scores. Finally; OTSL achieves faster inference due to fewer decoding steps which is a result of the reduced sequence representation:\n",
            "==================================================\n",
            "\n",
            "Foram encontradas 1 tabela(s):\n",
            "\n",
            "Tabela 1:\n",
            "\n",
            "  enc-layers dec-layers  Language.  TEDs.simple TEDs.complex     TEDs.all  \\\n",
            "0          6          6  OTSL HTML  0.965 0.969  0.934 0.927  0.955 0.955   \n",
            "1                        OTSL HTML  0.938 0.952  0.904 0.909        0.927   \n",
            "2          2                  OTSL        0.923  0.897 0.901  0.938 0.915   \n",
            "3                             HTML        0.945                     0.931   \n",
            "4                     2  OTSL HTML  0.952 0.944   0.92 0.903  0.942 0.931   \n",
            "\n",
            "    mAP.(0.75) Inference.time (secs)  \n",
            "0   0.88 0.857             2.73 5.39  \n",
            "1        0.853                  1.97  \n",
            "2        0.843                  3.77  \n",
            "3  0.859 0.834             1.91 3.81  \n",
            "4  0.857 0.824                1.22 2  \n"
          ]
        }
      ]
    },
    {
      "cell_type": "markdown",
      "source": [
        "##Passo 3: Divisão em Chunks\n",
        "Dividimos o conteúdo extraído em chunks.\n"
      ],
      "metadata": {
        "id": "vr5v-4W2MjfK"
      }
    },
    {
      "cell_type": "code",
      "source": [
        "import os\n",
        "from langchain.text_splitter import RecursiveCharacterTextSplitter\n",
        "\n",
        "def create_chunks_from_text_and_tables(text_content, tables, file_name, chunk_size=500):\n",
        "    \"\"\"\n",
        "    Divide o conteúdo de texto e tabelas em chunks utilizando LangChain.\n",
        "    \"\"\"\n",
        "    # Inicializa o divisor de texto com LangChain\n",
        "    text_splitter = RecursiveCharacterTextSplitter(\n",
        "        chunk_size=chunk_size,\n",
        "        chunk_overlap=100\n",
        "    )\n",
        "\n",
        "    # Divide o texto em chunks\n",
        "    text_chunks = text_splitter.create_documents([text_content])\n",
        "    chunk_id = 1\n",
        "\n",
        "    # Armazena os chunks gerados\n",
        "    combined_chunks = []\n",
        "\n",
        "    # Processa os chunks de texto\n",
        "    for chunk in text_chunks:\n",
        "        combined_chunks.append({\n",
        "            'text': chunk.page_content,\n",
        "            'metadata': {\n",
        "                'id': chunk_id,  # Gera um ID único\n",
        "                'length': len(chunk.page_content),\n",
        "                'type': 'text',\n",
        "                'file_name': file_name  # Adiciona o nome do arquivo aos metadados\n",
        "            }\n",
        "        })\n",
        "        chunk_id += 1\n",
        "\n",
        "    # Processa as tabelas extraídas (se existirem)\n",
        "    if tables:  # Verifica se tables não é None ou uma lista vazia\n",
        "        for table in tables:\n",
        "            combined_chunks.append({\n",
        "                'text': table['data'].to_markdown(),\n",
        "                'metadata': {\n",
        "                    'id': chunk_id,  # Gera um ID único para tabelas\n",
        "                    'length': len(table['data']),\n",
        "                    'type': 'table',\n",
        "                    'index': table['index'],\n",
        "                    'file_name': file_name  # Adiciona o nome do arquivo aos metadados\n",
        "                }\n",
        "            })\n",
        "            chunk_id += 1\n",
        "\n",
        "    return combined_chunks\n",
        "\n",
        "\n",
        "# Testando a função\n",
        "if __name__ == \"__main__\":\n",
        "    # Certifique-se de que 'file_path', 'text_content', e 'tables' estão disponíveis do processamento anterior\n",
        "    try:\n",
        "        # Obtém o nome do arquivo\n",
        "        file_name = os.path.basename(file_path)  # Necessário após importar os dados do arquivo\n",
        "\n",
        "        # Inicializa tables como lista vazia para arquivos de áudio\n",
        "        if tables is None:\n",
        "            tables = []\n",
        "\n",
        "        # Cria os chunks\n",
        "        chunks = create_chunks_from_text_and_tables(text_content, tables, file_name)\n",
        "\n",
        "        # Exibe os resultados\n",
        "        print(f\"{len(chunks)} chunks foram gerados:\")\n",
        "        for chunk in chunks:\n",
        "            print(f\"ID: {chunk['metadata']['id']}, Tipo: {chunk['metadata']['type']}\")\n",
        "            print(f\"Texto/Conteúdo:\\n{chunk['text']}\\n\")\n",
        "    except NameError as e:\n",
        "        print(f\"Erro: Variáveis não definidas no escopo atual. Certifique-se de que 'text_content', 'tables', e 'file_path' estejam definidos.\")\n",
        "        print(f\"Detalhes do erro: {e}\")\n",
        "    except TypeError as e:\n",
        "        print(f\"Erro: Tipo de dado inesperado. Certifique-se de que 'tables' seja uma lista ou 'None'.\")\n",
        "        print(f\"Detalhes do erro: {e}\")\n"
      ],
      "metadata": {
        "id": "dZ-zJzLcMhem",
        "colab": {
          "base_uri": "https://localhost:8080/"
        },
        "outputId": "daa42f83-541d-4b39-87e3-c5172b51e940"
      },
      "execution_count": 117,
      "outputs": [
        {
          "output_type": "stream",
          "name": "stdout",
          "text": [
            "6 chunks foram gerados:\n",
            "ID: 1, Tipo: text\n",
            "Texto/Conteúdo:\n",
            "order to compute the TED score. Inference timing results for all experiments were obtained from the same machine On a single core with AMD EPYC 7763 CPU @2.45 GHz.\n",
            "\n",
            "5.1 Hyper Parameter Optimization\n",
            "\n",
            "ID: 2, Tipo: text\n",
            "Texto/Conteúdo:\n",
            "5.1 Hyper Parameter Optimization\n",
            "\n",
            "We have chosen the PubIabNet data set to perform HPO, since it includes à highly diverse set of tables. Also we report TED scores separately for simple and complex tables (tables with cell spans) Results are presented in Table. It is evident that with OTSL, our model achieves the same TED score and slightly better mAP scores in comparison to HIML. However OISL yields a 2r speed up in the inference runtime over HIML.\n",
            "\n",
            "<missing-text>\n",
            "\n",
            "5.2 Quantitative Results\n",
            "\n",
            "ID: 3, Tipo: text\n",
            "Texto/Conteúdo:\n",
            "We picked the model parameter configuration that produced the best prediction quality (enc=6, dec=6, heads=8) with PubTabNet  alone; then independently trained and evaluated it on three publicly available data sets: Pub TabNet (395k samples) , FinlabNet (1l3k samples) and PubTables-IM (about IM samples) Performance results are presented in Table.@] It is clearly evident that the model trained on OTSL outperforms HTML across the board; keeping high TEDs and mAP scores evell OIl difficult\n",
            "\n",
            "ID: 4, Tipo: text\n",
            "Texto/Conteúdo:\n",
            "on OTSL outperforms HTML across the board; keeping high TEDs and mAP scores evell OIl difficult financial tables (FinTabNet) that contain sparse and tables. large\n",
            "\n",
            "ID: 5, Tipo: text\n",
            "Texto/Conteúdo:\n",
            "Additionally; the results show that OTSL has aIl advantage OvCI HTML when applied on a bigger data set like PubTables-IM and achieves significantly improved scores. Finally; OTSL achieves faster inference due to fewer decoding steps which is a result of the reduced sequence representation:\n",
            "\n",
            "ID: 6, Tipo: table\n",
            "Texto/Conteúdo:\n",
            "|    | enc-layers   | dec-layers   | Language.   | TEDs.simple   | TEDs.complex   | TEDs.all    | mAP.(0.75)   | Inference.time (secs)   |\n",
            "|---:|:-------------|:-------------|:------------|:--------------|:---------------|:------------|:-------------|:------------------------|\n",
            "|  0 | 6            | 6            | OTSL HTML   | 0.965 0.969   | 0.934 0.927    | 0.955 0.955 | 0.88 0.857   | 2.73 5.39               |\n",
            "|  1 |              |              | OTSL HTML   | 0.938 0.952   | 0.904 0.909    | 0.927       | 0.853        | 1.97                    |\n",
            "|  2 | 2            |              | OTSL        | 0.923         | 0.897 0.901    | 0.938 0.915 | 0.843        | 3.77                    |\n",
            "|  3 |              |              | HTML        | 0.945         |                | 0.931       | 0.859 0.834  | 1.91 3.81               |\n",
            "|  4 |              | 2            | OTSL HTML   | 0.952 0.944   | 0.92 0.903     | 0.942 0.931 | 0.857 0.824  | 1.22 2                  |\n",
            "\n"
          ]
        }
      ]
    },
    {
      "cell_type": "markdown",
      "source": [
        "Teste a criação dos chunks:"
      ],
      "metadata": {
        "id": "JkQ2SU-MMqyH"
      }
    },
    {
      "cell_type": "code",
      "source": [
        "print(\"Chunks gerados:\", len(chunks))\n",
        "\n",
        "for idx, chunk in enumerate(chunks, start=1):  # Enumerar os chunks a partir de 1\n",
        "    print(f\"\\n--- Chunk {idx} ---\")\n",
        "    print(f\"Texto do chunk:\\n{chunk['text']}\")\n",
        "    print(f\"Metadados: {chunk['metadata']}\")\n"
      ],
      "metadata": {
        "colab": {
          "base_uri": "https://localhost:8080/"
        },
        "id": "Uu5meUWfMn3G",
        "outputId": "ad79817f-e2a3-4632-9ed2-fe3982347442"
      },
      "execution_count": 118,
      "outputs": [
        {
          "output_type": "stream",
          "name": "stdout",
          "text": [
            "Chunks gerados: 6\n",
            "\n",
            "--- Chunk 1 ---\n",
            "Texto do chunk:\n",
            "order to compute the TED score. Inference timing results for all experiments were obtained from the same machine On a single core with AMD EPYC 7763 CPU @2.45 GHz.\n",
            "\n",
            "5.1 Hyper Parameter Optimization\n",
            "Metadados: {'id': 1, 'length': 197, 'type': 'text', 'file_name': '2305.03393v1-pg9-img.png'}\n",
            "\n",
            "--- Chunk 2 ---\n",
            "Texto do chunk:\n",
            "5.1 Hyper Parameter Optimization\n",
            "\n",
            "We have chosen the PubIabNet data set to perform HPO, since it includes à highly diverse set of tables. Also we report TED scores separately for simple and complex tables (tables with cell spans) Results are presented in Table. It is evident that with OTSL, our model achieves the same TED score and slightly better mAP scores in comparison to HIML. However OISL yields a 2r speed up in the inference runtime over HIML.\n",
            "\n",
            "<missing-text>\n",
            "\n",
            "5.2 Quantitative Results\n",
            "Metadados: {'id': 2, 'length': 495, 'type': 'text', 'file_name': '2305.03393v1-pg9-img.png'}\n",
            "\n",
            "--- Chunk 3 ---\n",
            "Texto do chunk:\n",
            "We picked the model parameter configuration that produced the best prediction quality (enc=6, dec=6, heads=8) with PubTabNet  alone; then independently trained and evaluated it on three publicly available data sets: Pub TabNet (395k samples) , FinlabNet (1l3k samples) and PubTables-IM (about IM samples) Performance results are presented in Table.@] It is clearly evident that the model trained on OTSL outperforms HTML across the board; keeping high TEDs and mAP scores evell OIl difficult\n",
            "Metadados: {'id': 3, 'length': 491, 'type': 'text', 'file_name': '2305.03393v1-pg9-img.png'}\n",
            "\n",
            "--- Chunk 4 ---\n",
            "Texto do chunk:\n",
            "on OTSL outperforms HTML across the board; keeping high TEDs and mAP scores evell OIl difficult financial tables (FinTabNet) that contain sparse and tables. large\n",
            "Metadados: {'id': 4, 'length': 162, 'type': 'text', 'file_name': '2305.03393v1-pg9-img.png'}\n",
            "\n",
            "--- Chunk 5 ---\n",
            "Texto do chunk:\n",
            "Additionally; the results show that OTSL has aIl advantage OvCI HTML when applied on a bigger data set like PubTables-IM and achieves significantly improved scores. Finally; OTSL achieves faster inference due to fewer decoding steps which is a result of the reduced sequence representation:\n",
            "Metadados: {'id': 5, 'length': 290, 'type': 'text', 'file_name': '2305.03393v1-pg9-img.png'}\n",
            "\n",
            "--- Chunk 6 ---\n",
            "Texto do chunk:\n",
            "|    | enc-layers   | dec-layers   | Language.   | TEDs.simple   | TEDs.complex   | TEDs.all    | mAP.(0.75)   | Inference.time (secs)   |\n",
            "|---:|:-------------|:-------------|:------------|:--------------|:---------------|:------------|:-------------|:------------------------|\n",
            "|  0 | 6            | 6            | OTSL HTML   | 0.965 0.969   | 0.934 0.927    | 0.955 0.955 | 0.88 0.857   | 2.73 5.39               |\n",
            "|  1 |              |              | OTSL HTML   | 0.938 0.952   | 0.904 0.909    | 0.927       | 0.853        | 1.97                    |\n",
            "|  2 | 2            |              | OTSL        | 0.923         | 0.897 0.901    | 0.938 0.915 | 0.843        | 3.77                    |\n",
            "|  3 |              |              | HTML        | 0.945         |                | 0.931       | 0.859 0.834  | 1.91 3.81               |\n",
            "|  4 |              | 2            | OTSL HTML   | 0.952 0.944   | 0.92 0.903     | 0.942 0.931 | 0.857 0.824  | 1.22 2                  |\n",
            "Metadados: {'id': 6, 'length': 5, 'type': 'table', 'index': 1, 'file_name': '2305.03393v1-pg9-img.png'}\n"
          ]
        }
      ]
    },
    {
      "cell_type": "markdown",
      "source": [
        "##Passo 4: Gerar Embeddings\n",
        "Utilizamos o Cohere para gerar embeddings.\n"
      ],
      "metadata": {
        "id": "rWbKzEKSMtee"
      }
    },
    {
      "cell_type": "code",
      "source": [
        "def generate_embeddings(text_list):\n",
        "    response = cohere_client.embed(model=\"embed-multilingual-v2.0\", texts=text_list)\n",
        "    return response.embeddings\n"
      ],
      "metadata": {
        "id": "NWdDFgWaMuZ8"
      },
      "execution_count": 119,
      "outputs": []
    },
    {
      "cell_type": "markdown",
      "source": [
        "Teste a geração dos embeddings:\n"
      ],
      "metadata": {
        "id": "3QAtDaMTMzMY"
      }
    },
    {
      "cell_type": "code",
      "source": [
        "texts = [chunk['text'] for chunk in chunks]\n",
        "embeddings = generate_embeddings(texts)\n",
        "print(\"Quantidade de embeddings gerados:\", len(embeddings))\n",
        "for i, embedding in enumerate(embeddings[:3]):  # Mostre os primeiros 3 embeddings\n",
        "    print(f\"Embedding {i + 1}: {embedding[:10]}...\")  # Exibir os primeiros 10 valores\n"
      ],
      "metadata": {
        "colab": {
          "base_uri": "https://localhost:8080/"
        },
        "id": "aY86SiMxMz9r",
        "outputId": "e016958b-c74e-46c3-f41e-1dd61535f27c"
      },
      "execution_count": 120,
      "outputs": [
        {
          "output_type": "stream",
          "name": "stdout",
          "text": [
            "Quantidade de embeddings gerados: 6\n",
            "Embedding 1: [0.49121094, -0.19360352, 0.042907715, 0.15539551, -0.0019226074, -0.10412598, 0.20336914, -0.28295898, 0.09185791, 0.34179688]...\n",
            "Embedding 2: [0.37329102, -0.17492676, -0.2915039, 0.45532227, 0.37280273, -0.33520508, 0.27368164, -0.22949219, 0.12207031, 0.51220703]...\n",
            "Embedding 3: [0.31982422, -0.13269043, -0.010658264, 0.42016602, 0.028045654, -0.07507324, 0.025512695, -0.29052734, 0.043273926, 0.42163086]...\n"
          ]
        }
      ]
    },
    {
      "cell_type": "markdown",
      "source": [
        "Combinando os embedding com os metadados"
      ],
      "metadata": {
        "id": "WGz0uuqnRJ2C"
      }
    },
    {
      "cell_type": "code",
      "source": [
        "# Combinar embeddings com seus metadados, incluindo o campo 'content'\n",
        "def combine_embeddings_with_metadata(embeddings, chunks):\n",
        "    combined_data = []\n",
        "    for embedding, chunk in zip(embeddings, chunks):\n",
        "        combined_data.append({\n",
        "            'embedding': embedding,  # O embedding gerado\n",
        "            'metadata': {\n",
        "                **chunk['metadata'],  # Mantém os metadados originais\n",
        "                'content': chunk['text']  # Adiciona o conteúdo do chunk\n",
        "            }\n",
        "        })\n",
        "    return combined_data\n",
        "\n",
        "# Combinar embeddings e metadados\n",
        "combined_data = combine_embeddings_with_metadata(embeddings, chunks)\n",
        "\n",
        "# Exibir os dados combinados para validação\n",
        "print(\"Quantidade de dados combinados:\", len(combined_data))\n",
        "for idx, data in enumerate(combined_data[:12], start=1):  # Mostrar os primeiros 3 para validação\n",
        "    print(f\"\\n--- Dado {idx} ---\")\n",
        "    print(f\"Embedding (resumido): {data['embedding'][:10]}...\")  # Mostrar apenas os primeiros 10 valores\n",
        "    print(f\"Metadados: {data['metadata']}\")\n"
      ],
      "metadata": {
        "colab": {
          "base_uri": "https://localhost:8080/"
        },
        "id": "SxbPVJZCRMQD",
        "outputId": "842a0403-b240-4fbf-e0a5-1ddee177228a"
      },
      "execution_count": 121,
      "outputs": [
        {
          "output_type": "stream",
          "name": "stdout",
          "text": [
            "Quantidade de dados combinados: 6\n",
            "\n",
            "--- Dado 1 ---\n",
            "Embedding (resumido): [0.49121094, -0.19360352, 0.042907715, 0.15539551, -0.0019226074, -0.10412598, 0.20336914, -0.28295898, 0.09185791, 0.34179688]...\n",
            "Metadados: {'id': 1, 'length': 197, 'type': 'text', 'file_name': '2305.03393v1-pg9-img.png', 'content': 'order to compute the TED score. Inference timing results for all experiments were obtained from the same machine On a single core with AMD EPYC 7763 CPU @2.45 GHz.\\n\\n5.1 Hyper Parameter Optimization'}\n",
            "\n",
            "--- Dado 2 ---\n",
            "Embedding (resumido): [0.37329102, -0.17492676, -0.2915039, 0.45532227, 0.37280273, -0.33520508, 0.27368164, -0.22949219, 0.12207031, 0.51220703]...\n",
            "Metadados: {'id': 2, 'length': 495, 'type': 'text', 'file_name': '2305.03393v1-pg9-img.png', 'content': '5.1 Hyper Parameter Optimization\\n\\nWe have chosen the PubIabNet data set to perform HPO, since it includes à highly diverse set of tables. Also we report TED scores separately for simple and complex tables (tables with cell spans) Results are presented in Table. It is evident that with OTSL, our model achieves the same TED score and slightly better mAP scores in comparison to HIML. However OISL yields a 2r speed up in the inference runtime over HIML.\\n\\n<missing-text>\\n\\n5.2 Quantitative Results'}\n",
            "\n",
            "--- Dado 3 ---\n",
            "Embedding (resumido): [0.31982422, -0.13269043, -0.010658264, 0.42016602, 0.028045654, -0.07507324, 0.025512695, -0.29052734, 0.043273926, 0.42163086]...\n",
            "Metadados: {'id': 3, 'length': 491, 'type': 'text', 'file_name': '2305.03393v1-pg9-img.png', 'content': 'We picked the model parameter configuration that produced the best prediction quality (enc=6, dec=6, heads=8) with PubTabNet  alone; then independently trained and evaluated it on three publicly available data sets: Pub TabNet (395k samples) , FinlabNet (1l3k samples) and PubTables-IM (about IM samples) Performance results are presented in Table.@] It is clearly evident that the model trained on OTSL outperforms HTML across the board; keeping high TEDs and mAP scores evell OIl difficult'}\n",
            "\n",
            "--- Dado 4 ---\n",
            "Embedding (resumido): [0.60009766, -0.3076172, -0.390625, 0.47802734, 0.048309326, 0.23205566, 0.3383789, -0.32421875, 0.11773682, 0.40063477]...\n",
            "Metadados: {'id': 4, 'length': 162, 'type': 'text', 'file_name': '2305.03393v1-pg9-img.png', 'content': 'on OTSL outperforms HTML across the board; keeping high TEDs and mAP scores evell OIl difficult financial tables (FinTabNet) that contain sparse and tables. large'}\n",
            "\n",
            "--- Dado 5 ---\n",
            "Embedding (resumido): [0.087646484, -0.1776123, -0.1217041, 0.29858398, 0.052093506, -0.095947266, 0.34570312, -0.25146484, 0.04434204, 0.4555664]...\n",
            "Metadados: {'id': 5, 'length': 290, 'type': 'text', 'file_name': '2305.03393v1-pg9-img.png', 'content': 'Additionally; the results show that OTSL has aIl advantage OvCI HTML when applied on a bigger data set like PubTables-IM and achieves significantly improved scores. Finally; OTSL achieves faster inference due to fewer decoding steps which is a result of the reduced sequence representation:'}\n",
            "\n",
            "--- Dado 6 ---\n",
            "Embedding (resumido): [0.11920166, -0.16564941, -0.07659912, 0.5361328, 0.1776123, 0.113220215, 0.017990112, -0.31030273, -0.21374512, 0.38256836]...\n",
            "Metadados: {'id': 6, 'length': 5, 'type': 'table', 'index': 1, 'file_name': '2305.03393v1-pg9-img.png', 'content': '|    | enc-layers   | dec-layers   | Language.   | TEDs.simple   | TEDs.complex   | TEDs.all    | mAP.(0.75)   | Inference.time (secs)   |\\n|---:|:-------------|:-------------|:------------|:--------------|:---------------|:------------|:-------------|:------------------------|\\n|  0 | 6            | 6            | OTSL HTML   | 0.965 0.969   | 0.934 0.927    | 0.955 0.955 | 0.88 0.857   | 2.73 5.39               |\\n|  1 |              |              | OTSL HTML   | 0.938 0.952   | 0.904 0.909    | 0.927       | 0.853        | 1.97                    |\\n|  2 | 2            |              | OTSL        | 0.923         | 0.897 0.901    | 0.938 0.915 | 0.843        | 3.77                    |\\n|  3 |              |              | HTML        | 0.945         |                | 0.931       | 0.859 0.834  | 1.91 3.81               |\\n|  4 |              | 2            | OTSL HTML   | 0.952 0.944   | 0.92 0.903     | 0.942 0.931 | 0.857 0.824  | 1.22 2                  |'}\n"
          ]
        }
      ]
    },
    {
      "cell_type": "markdown",
      "source": [
        "##Passo 5: Inserir no ChromaDB\n",
        "Adicionamos os embeddings e metadados ao ChromaDB."
      ],
      "metadata": {
        "id": "1T0ecHUUM20m"
      }
    },
    {
      "cell_type": "code",
      "source": [
        "# Criar ou obter a coleção no ChromaDB\n",
        "collection_name = \"novo\"\n",
        "collection = client.get_or_create_collection(\n",
        "    name=collection_name,\n",
        "    metadata={\"dimensions\": collection_dimensions}\n",
        ")\n",
        "\n",
        "# Inserir embeddings, metadados e IDs na coleção\n",
        "for chunk, embedding in zip(chunks, embeddings):\n",
        "    # Atualizar os metadados para incluir o campo 'content'\n",
        "    metadata_with_content = {\n",
        "        **chunk['metadata'],  # Mantém os metadados originais\n",
        "        'content': chunk['text']  # Adiciona o conteúdo do chunk como metadado\n",
        "    }\n",
        "\n",
        "    # Adicionar ao banco vetorial\n",
        "    collection.add(\n",
        "        embeddings=[embedding],  # Embedding gerado\n",
        "        metadatas=[metadata_with_content],  # Metadados atualizados com 'content'\n",
        "        ids=[str(chunk['metadata']['id'])]  # ID único do chunk\n",
        "    )\n",
        "\n",
        "print(f\"{len(embeddings)} registros inseridos na coleção '{collection_name}' com sucesso!\")\n"
      ],
      "metadata": {
        "colab": {
          "base_uri": "https://localhost:8080/"
        },
        "id": "6zYddLpWM3gL",
        "outputId": "ef3fac6f-0dee-4ab6-b3c6-66dbb3d04d0e"
      },
      "execution_count": 66,
      "outputs": [
        {
          "output_type": "stream",
          "name": "stdout",
          "text": [
            "12 registros inseridos na coleção 'novo' com sucesso!\n"
          ]
        }
      ]
    },
    {
      "cell_type": "markdown",
      "source": [
        "Teste se os dados foram inseridos corretamente:"
      ],
      "metadata": {
        "id": "AOWLWV7GM81U"
      }
    },
    {
      "cell_type": "code",
      "source": [
        "# Recuperar os dados da coleção para validação\n",
        "all_data = collection.get(include=[\"metadatas\", \"embeddings\"])\n",
        "\n",
        "# Exibir os primeiros registros para validação\n",
        "print(f\"Total de registros na coleção: {len(all_data['metadatas'])}\")\n",
        "for idx, (metadata, embedding) in enumerate(zip(all_data['metadatas'], all_data['embeddings']), start=1):\n",
        "    print(f\"\\n--- Registro {idx} ---\")\n",
        "    print(f\"Metadados: {metadata}\")\n",
        "    print(f\"Embedding (resumido): {embedding[:10]}...\")  # Exibe apenas os primeiros 10 valores do embedding\n"
      ],
      "metadata": {
        "colab": {
          "base_uri": "https://localhost:8080/"
        },
        "id": "cn_16CAIM9mM",
        "outputId": "b36df7a7-48f7-4647-b4ab-08563b284bdb"
      },
      "execution_count": 67,
      "outputs": [
        {
          "output_type": "stream",
          "name": "stdout",
          "text": [
            "Total de registros na coleção: 12\n",
            "\n",
            "--- Registro 1 ---\n",
            "Metadados: {'content': '<missing-text>\\n\\nFundamentos da Programação Web Atividade Prática\\n\\nATIVIDADE PRÁTICA\\n\\n1.  OBJETIVO\\n\\nAplicar os conceitos estudados na disciplina.\\n\\n2.  PROGRAMAS NECESSÁRIOS\\n\\nPara desenvolver esta atividade será necessário:\\n\\n ❖ HTML\\n\\n ❖ CSS\\n\\n ❖ JavaScript (livre)\\n\\n ❖ Acesso a um provedor de hospedagem gratuito.\\n\\n ❖ Um diagramador (IDE VS Code, por exemplo)\\n\\n3.  ORIENTAÇÕES GERAIS', 'file_name': 'ATIVIDADE_PRATICA_C1_2024.pdf', 'id': 1, 'length': 380, 'type': 'text'}\n",
            "Embedding (resumido): [ 0.50097656  0.11077881  0.20092773  0.25708008 -0.37792969  0.20288086\n",
            "  0.44116211 -0.39990234  0.43066406  0.18347168]...\n",
            "\n",
            "--- Registro 2 ---\n",
            "Metadados: {'content': '❖ Um diagramador (IDE VS Code, por exemplo)\\n\\n3.  ORIENTAÇÕES GERAIS\\n\\nDesenvolver um site, totalmente funcional, com no mínimo quatro links, conforme orientações, e publicá-lo num servidor de hospedagem gratuito. Procure  deixar  o  menu  visível  em  todas  as  páginas,  evite  o  uso  do VOLTAR do navegador.\\n\\nExemplos:\\n\\n<missing-text>\\n\\n<missing-text>\\n\\nFundamentos da Programação Web Atividade Prática\\n\\nOu\\n\\n<missing-text>\\n\\n O tema do site: Portfólio pessoal (CV online).\\n\\nRequisitos:', 'file_name': 'ATIVIDADE_PRATICA_C1_2024.pdf', 'id': 2, 'length': 485, 'type': 'text'}\n",
            "Embedding (resumido): [ 0.25073242  0.41381836 -0.13146973  0.40551758  0.18371582  0.0635376\n",
            "  0.33422852 -0.38134766  0.1550293   0.4831543 ]...\n",
            "\n",
            "--- Registro 3 ---\n",
            "Metadados: {'content': 'Ou\\n\\n<missing-text>\\n\\n O tema do site: Portfólio pessoal (CV online).\\n\\nRequisitos:\\n\\n ❖ Um link Sobre mim: que fale sobre você, hobbies etc;\\n\\n ❖ Um link sobre sua formação educacional, idiomas;\\n\\n ❖ Um link com seu portfólio. Pode colocar links para outros sites que você tenha feito, ou com trabalhos que você tenha desenvolvido no curso em outras disciplinas. No decorrer da disciplina foram colocados exemplos de sites, você pode refazer esses exemplos e utilizar como portfólio.', 'file_name': 'ATIVIDADE_PRATICA_C1_2024.pdf', 'id': 3, 'length': 478, 'type': 'text'}\n",
            "Embedding (resumido): [ 0.16003418  0.37084961 -0.00056124  0.07409668  0.05493164 -0.08178711\n",
            "  0.32397461 -0.30737305  0.12683105  0.04107666]...\n",
            "\n",
            "--- Registro 4 ---\n",
            "Metadados: {'content': '❖ Link  para  contato -  fazer  a  parte  visual  do  formulário.  (utilizar  inputs: nome, email, mensagem).\\n\\n ❖ Utilizar somente CSS, não pode utilizar bootstrap ou similares;\\n\\n ❖ Explicar seu código através de comentários, sem exageros;\\n\\n<missing-text>\\n\\nFundamentos da Programação Web Atividade Prática\\n\\n ❖ Não poderá utilizar Wix, WordPress e frameworks desse tipo. Deve ser desenvolvido com linguagem pura ( somente HTML e CSS ).', 'file_name': 'ATIVIDADE_PRATICA_C1_2024.pdf', 'id': 4, 'length': 434, 'type': 'text'}\n",
            "Embedding (resumido): [ 0.33642578  0.40258789  0.03353882  0.27539062 -0.21813965  0.38891602\n",
            "  0.48876953 -0.35498047  0.14624023  0.31787109]...\n",
            "\n",
            "--- Registro 5 ---\n",
            "Metadados: {'content': '❖ Ao criar o seu usuário no servidor de hospedagem gratuito, utilize seu nome como parte do domínio.\\n\\nCUIDADO', 'file_name': 'ATIVIDADE_PRATICA_C1_2024.pdf', 'id': 5, 'length': 109, 'type': 'text'}\n",
            "Embedding (resumido): [-0.06152344  0.30395508 -0.23974609  0.18078613  0.0280304   0.56738281\n",
            "  0.53076172 -0.35791016 -0.24243164  0.04006958]...\n",
            "\n",
            "--- Registro 6 ---\n",
            "Metadados: {'content': 'CUIDADO\\n\\nEm  programação,  não  existem  dois  códigos  exatamente  iguais.  Cada programador organiza seu código de uma forma diferente, declara variáveis com nomes diferentes,  faz  comentários  diferentes,  gera  mensagens  aos usuários distintas etc. Por este motivo, e como a atividade é INDIVIDUAL, não serão aceitas páginas idênticas entre alunos (ou iguais à Internet). Caso o corretor observe respostas iguais, elas serão consideradas como PLÁGIO e será atribuída a NOTA ZERO na questão.', 'file_name': 'ATIVIDADE_PRATICA_C1_2024.pdf', 'id': 6, 'length': 496, 'type': 'text'}\n",
            "Embedding (resumido): [ 0.44091797  0.18554688 -0.15405273  0.5625      0.21179199  0.16650391\n",
            "  0.44775391 -0.26342773 -0.26049805  0.16345215]...\n",
            "\n",
            "--- Registro 7 ---\n",
            "Metadados: {'content': '4.  Entrega da atividade\\n\\nPostar os códigos no modelo de documento fornecido.  Identificar o nome do arquivo e copiar e colar utilizando o botão direito do mouse. Não esquecer de colocar o endereço de onde publicou o seu portfólio. A entrega do arquivo de ser docx ou pdf, mas recomendamos em pdf para evitar desconfigurações entre as versões e ou diferentes editores de texto utilizados.\\n\\n5.  Critérios de Avaliação', 'file_name': 'ATIVIDADE_PRATICA_C1_2024.pdf', 'id': 7, 'length': 416, 'type': 'text'}\n",
            "Embedding (resumido): [ 0.38232422  0.30981445  0.07440186  0.15588379 -0.27636719  0.09606934\n",
            "  0.27246094 -0.39648438 -0.07141113  0.1427002 ]...\n",
            "\n",
            "--- Registro 8 ---\n",
            "Metadados: {'content': '5.  Critérios de Avaliação\\n\\nPara que você obtenha a nota máxima na atividade, precisará cumprir todos os requisitos básicos explicados nas ORIENTAÇÕES GERAIS.\\n\\nOBS: Deverá  ser  entregue  no  link  \\'Trabalhos\\'.  Utilizando  o  modelo disponibilizado na aula 7 em \".docx\" (Word).\\n\\n<missing-text>\\n\\nFundamentos da Programação Web Atividade Prática\\n\\nDicas:\\n\\n 1.  Capriche na diagramação, vai ser avaliado se está agradável visualmente.', 'file_name': 'ATIVIDADE_PRATICA_C1_2024.pdf', 'id': 8, 'length': 431, 'type': 'text'}\n",
            "Embedding (resumido): [ 0.73632812 -0.33056641  0.34301758  0.35668945  0.05792236  0.20983887\n",
            "  0.81396484 -0.44555664  0.14001465  0.11151123]...\n",
            "\n",
            "--- Registro 9 ---\n",
            "Metadados: {'content': 'Dicas:\\n\\n 1.  Capriche na diagramação, vai ser avaliado se está agradável visualmente.\\n\\n 2. Colocar  conteúdo ,  principalmente  nos  itens  sobre  você,  formação acadêmica e até experiência profissional se você tiver.\\n\\n 3.  Utilize o doctype html5\\n\\n 4. Não utilize bootstrap ou similares.\\n\\n<missing-text>\\n\\nApresentou código igual ao de outro colega ou copiado da internet - nota zero para ambos os alunos.\\n\\n<missing-text>\\n\\nFundamentos da Programação Web Atividade Prática', 'file_name': 'ATIVIDADE_PRATICA_C1_2024.pdf', 'id': 9, 'length': 472, 'type': 'text'}\n",
            "Embedding (resumido): [ 0.23291016  0.21862793 -0.05334473  0.45703125 -0.34814453  0.35595703\n",
            "  0.48730469 -0.44262695  0.19189453  0.24963379]...\n",
            "\n",
            "--- Registro 10 ---\n",
            "Metadados: {'content': \"<missing-text>\\n\\nFundamentos da Programação Web Atividade Prática\\n\\nApresentou  somente  o  link  para  abrir  o  trabalho,  sem  enviar  o  código  solicitado  -  será descontado 50% da nota.\\n\\nApresentou somente o código sem o link com as páginas hospedadas na internet - desconto de 50% sobre a nota total\\n\\nNão colocou conteúdo ou utilizou o 'lorem ipsum' - desconto de 50% da nota.\", 'file_name': 'ATIVIDADE_PRATICA_C1_2024.pdf', 'id': 10, 'length': 382, 'type': 'text'}\n",
            "Embedding (resumido): [ 5.37109375e-01 -1.80297852e-01  1.30126953e-01  2.07641602e-01\n",
            " -1.02111816e-01 -9.69171524e-05  4.06250000e-01 -3.62060547e-01\n",
            "  4.71679688e-01  5.17272949e-02]...\n",
            "\n",
            "--- Registro 11 ---\n",
            "Metadados: {'content': \"Não colocou conteúdo ou utilizou o 'lorem ipsum' - desconto de 50% da nota.\\n\\nCaso poste o trabalho com link errado, perderá a nota, não será substituído o trabalho, nem será corrigido. Teste o link antes de enviar o trabalho.\\n\\nCaso poste o arquivo de entrega errado, não haverá possibilidade de substituição ou reenvio. Atenção na hora da postagem.\\n\\nTotal da Nota\", 'file_name': 'ATIVIDADE_PRATICA_C1_2024.pdf', 'id': 11, 'length': 363, 'type': 'text'}\n",
            "Embedding (resumido): [ 0.08349609 -0.16137695  0.24951172  0.48022461 -0.08544922  0.1083374\n",
            "  0.33740234 -0.34448242 -0.1060791   0.09210205]...\n",
            "\n",
            "--- Registro 12 ---\n",
            "Metadados: {'content': '|    | Páginas   | Atendeu Totalmente  Valor  25  pontos  página                                                                                                                | cada  24  todos   | Atendeu  parcialmente  Valor de 1 a  pontos  cada página                               | Não atendeu  Valor  0  pontos  cada  página   | Nota  cada  página   |\\n|---:|:----------|:-------------------------------------------------------------------------------------------------------------------------------------------------------------|:------------------|:---------------------------------------------------------------------------------------|:----------------------------------------------|:---------------------|\\n|  0 | Sobre mim | Atendeu                                                                                                                                                      | os                | Atendeu                                                                                | Não  atendeu  os                              |                      |\\n|  1 | Formação  | requisitos                                                                                                                                                   | solicitados:      | parcialmente                                                                           | requisitos  solicitados                       |                      |\\n|  2 | Portfólio | seguiu  as  orientações  do                                                                                                                                  |                   | os requisitos                                                                          | ou não apresentou a                           |                      |\\n|  3 | Contato   | enunciado, o código possui  e                                                                                                                                |                   | solicitados,                                                                           | página solicitada                             |                      |\\n|  4 |           | comentários  funcionando corretamente,  os links estão funcionando  corretamente,  usou  sua  criatividade,  fez  uma  boa  diagramação,  colocou  conteúdo. | está              | indicados na  primeira  coluna,  a  nota  pode  variar de 1 a  24  pontos  por página. |                                               |                      |', 'file_name': 'ATIVIDADE_PRATICA_C1_2024.pdf', 'id': 12, 'index': 1, 'length': 5, 'type': 'table'}\n",
            "Embedding (resumido): [-0.01773071 -0.29321289  0.36279297  0.85253906  0.21447754  0.2902832\n",
            "  0.08874512 -0.39038086  0.1270752   0.60449219]...\n"
          ]
        }
      ]
    },
    {
      "cell_type": "markdown",
      "source": [
        "##Passo 6: Depurando a Consulta\n"
      ],
      "metadata": {
        "id": "MFkiofiJM__q"
      }
    },
    {
      "cell_type": "markdown",
      "source": [
        "Verifique se os embeddings estão disponíveis no ChromaDB.\n"
      ],
      "metadata": {
        "id": "GXpeTjxSNCI1"
      }
    },
    {
      "cell_type": "code",
      "source": [
        "results = collection.query(\n",
        "    query_embeddings=[embeddings[0]],  # Use o primeiro embedding como exemplo\n",
        "    n_results=2\n",
        ")\n",
        "print(\"Resultados da consulta:\", results)\n"
      ],
      "metadata": {
        "colab": {
          "base_uri": "https://localhost:8080/"
        },
        "id": "x6yuG2hXNAsh",
        "outputId": "8ab7ac5a-68f1-447d-bba9-bb87ac28b263"
      },
      "execution_count": 14,
      "outputs": [
        {
          "output_type": "stream",
          "name": "stdout",
          "text": [
            "Resultados da consulta: {'ids': [['1', '2']], 'embeddings': None, 'documents': [[None, None]], 'uris': None, 'data': None, 'metadatas': [[{'content': '<missing-text>\\n\\nFundamentos da Programação Web Atividade Prática\\n\\nATIVIDADE PRÁTICA\\n\\n1.  OBJETIVO\\n\\nAplicar os conceitos estudados na disciplina.\\n\\n2.  PROGRAMAS NECESSÁRIOS\\n\\nPara desenvolver esta atividade será necessário:\\n\\n ❖ HTML\\n\\n ❖ CSS\\n\\n ❖ JavaScript (livre)\\n\\n ❖ Acesso a um provedor de hospedagem gratuito.\\n\\n ❖ Um diagramador (IDE VS Code, por exemplo)\\n\\n3.  ORIENTAÇÕES GERAIS', 'file_name': 'ATIVIDADE_PRATICA_C1_2024.pdf', 'id': 1, 'length': 380, 'type': 'text'}, {'content': '❖ Um diagramador (IDE VS Code, por exemplo)\\n\\n3.  ORIENTAÇÕES GERAIS\\n\\nDesenvolver um site, totalmente funcional, com no mínimo quatro links, conforme orientações, e publicá-lo num servidor de hospedagem gratuito. Procure  deixar  o  menu  visível  em  todas  as  páginas,  evite  o  uso  do VOLTAR do navegador.\\n\\nExemplos:\\n\\n<missing-text>\\n\\n<missing-text>\\n\\nFundamentos da Programação Web Atividade Prática\\n\\nOu\\n\\n<missing-text>\\n\\n O tema do site: Portfólio pessoal (CV online).\\n\\nRequisitos:', 'file_name': 'ATIVIDADE_PRATICA_C1_2024.pdf', 'id': 2, 'length': 485, 'type': 'text'}]], 'distances': [[0.0, 23.40102767944336]], 'included': [<IncludeEnum.distances: 'distances'>, <IncludeEnum.documents: 'documents'>, <IncludeEnum.metadatas: 'metadatas'>]}\n"
          ]
        }
      ]
    },
    {
      "cell_type": "code",
      "source": [
        "# Realizar a consulta no ChromaDB\n",
        "results = collection.query(\n",
        "    query_embeddings=[embeddings[11]],  # Use o primeiro embedding como exemplo\n",
        "    n_results=12\n",
        ")\n",
        "\n",
        "# Validar e exibir os resultados\n",
        "if results and 'metadatas' in results and results['metadatas']:\n",
        "    print(\"Resultados da consulta:\")\n",
        "    for idx, (metadata, score_list) in enumerate(zip(results['metadatas'], results['distances']), start=1):\n",
        "        # Se score_list for uma lista, pegue o primeiro elemento\n",
        "        score = score_list[0] if isinstance(score_list, list) else score_list\n",
        "        print(f\"\\n--- Resultado {idx} ---\")\n",
        "        print(\"Metadados:\", metadata)\n",
        "        print(f\"Similaridade: {1 - score:.4f}\")  # Similaridade como 1 - distância (se for cosseno)\n",
        "else:\n",
        "    print(\"Nenhum resultado encontrado.\")\n"
      ],
      "metadata": {
        "colab": {
          "base_uri": "https://localhost:8080/"
        },
        "id": "b1HNHdtvRtPl",
        "outputId": "4bc69faf-0e47-4a2e-8f49-ab00815ac4cc"
      },
      "execution_count": 15,
      "outputs": [
        {
          "output_type": "stream",
          "name": "stdout",
          "text": [
            "Resultados da consulta:\n",
            "\n",
            "--- Resultado 1 ---\n",
            "Metadados: [{'content': '|    | Páginas   | Atendeu Totalmente  Valor  25  pontos  página                                                                                                                | cada  24  todos   | Atendeu  parcialmente  Valor de 1 a  pontos  cada página                               | Não atendeu  Valor  0  pontos  cada  página   | Nota  cada  página   |\\n|---:|:----------|:-------------------------------------------------------------------------------------------------------------------------------------------------------------|:------------------|:---------------------------------------------------------------------------------------|:----------------------------------------------|:---------------------|\\n|  0 | Sobre mim | Atendeu                                                                                                                                                      | os                | Atendeu                                                                                | Não  atendeu  os                              |                      |\\n|  1 | Formação  | requisitos                                                                                                                                                   | solicitados:      | parcialmente                                                                           | requisitos  solicitados                       |                      |\\n|  2 | Portfólio | seguiu  as  orientações  do                                                                                                                                  |                   | os requisitos                                                                          | ou não apresentou a                           |                      |\\n|  3 | Contato   | enunciado, o código possui  e                                                                                                                                |                   | solicitados,                                                                           | página solicitada                             |                      |\\n|  4 |           | comentários  funcionando corretamente,  os links estão funcionando  corretamente,  usou  sua  criatividade,  fez  uma  boa  diagramação,  colocou  conteúdo. | está              | indicados na  primeira  coluna,  a  nota  pode  variar de 1 a  24  pontos  por página. |                                               |                      |', 'file_name': 'ATIVIDADE_PRATICA_C1_2024.pdf', 'id': 12, 'index': 1, 'length': 5, 'type': 'table'}, {'content': \"Não colocou conteúdo ou utilizou o 'lorem ipsum' - desconto de 50% da nota.\\n\\nCaso poste o trabalho com link errado, perderá a nota, não será substituído o trabalho, nem será corrigido. Teste o link antes de enviar o trabalho.\\n\\nCaso poste o arquivo de entrega errado, não haverá possibilidade de substituição ou reenvio. Atenção na hora da postagem.\\n\\nTotal da Nota\", 'file_name': 'ATIVIDADE_PRATICA_C1_2024.pdf', 'id': 11, 'length': 363, 'type': 'text'}, {'content': '❖ Link  para  contato -  fazer  a  parte  visual  do  formulário.  (utilizar  inputs: nome, email, mensagem).\\n\\n ❖ Utilizar somente CSS, não pode utilizar bootstrap ou similares;\\n\\n ❖ Explicar seu código através de comentários, sem exageros;\\n\\n<missing-text>\\n\\nFundamentos da Programação Web Atividade Prática\\n\\n ❖ Não poderá utilizar Wix, WordPress e frameworks desse tipo. Deve ser desenvolvido com linguagem pura ( somente HTML e CSS ).', 'file_name': 'ATIVIDADE_PRATICA_C1_2024.pdf', 'id': 4, 'length': 434, 'type': 'text'}, {'content': 'Dicas:\\n\\n 1.  Capriche na diagramação, vai ser avaliado se está agradável visualmente.\\n\\n 2. Colocar  conteúdo ,  principalmente  nos  itens  sobre  você,  formação acadêmica e até experiência profissional se você tiver.\\n\\n 3.  Utilize o doctype html5\\n\\n 4. Não utilize bootstrap ou similares.\\n\\n<missing-text>\\n\\nApresentou código igual ao de outro colega ou copiado da internet - nota zero para ambos os alunos.\\n\\n<missing-text>\\n\\nFundamentos da Programação Web Atividade Prática', 'file_name': 'ATIVIDADE_PRATICA_C1_2024.pdf', 'id': 9, 'length': 472, 'type': 'text'}, {'content': 'CUIDADO\\n\\nEm  programação,  não  existem  dois  códigos  exatamente  iguais.  Cada programador organiza seu código de uma forma diferente, declara variáveis com nomes diferentes,  faz  comentários  diferentes,  gera  mensagens  aos usuários distintas etc. Por este motivo, e como a atividade é INDIVIDUAL, não serão aceitas páginas idênticas entre alunos (ou iguais à Internet). Caso o corretor observe respostas iguais, elas serão consideradas como PLÁGIO e será atribuída a NOTA ZERO na questão.', 'file_name': 'ATIVIDADE_PRATICA_C1_2024.pdf', 'id': 6, 'length': 496, 'type': 'text'}, {'content': '5.  Critérios de Avaliação\\n\\nPara que você obtenha a nota máxima na atividade, precisará cumprir todos os requisitos básicos explicados nas ORIENTAÇÕES GERAIS.\\n\\nOBS: Deverá  ser  entregue  no  link  \\'Trabalhos\\'.  Utilizando  o  modelo disponibilizado na aula 7 em \".docx\" (Word).\\n\\n<missing-text>\\n\\nFundamentos da Programação Web Atividade Prática\\n\\nDicas:\\n\\n 1.  Capriche na diagramação, vai ser avaliado se está agradável visualmente.', 'file_name': 'ATIVIDADE_PRATICA_C1_2024.pdf', 'id': 8, 'length': 431, 'type': 'text'}, {'content': '❖ Um diagramador (IDE VS Code, por exemplo)\\n\\n3.  ORIENTAÇÕES GERAIS\\n\\nDesenvolver um site, totalmente funcional, com no mínimo quatro links, conforme orientações, e publicá-lo num servidor de hospedagem gratuito. Procure  deixar  o  menu  visível  em  todas  as  páginas,  evite  o  uso  do VOLTAR do navegador.\\n\\nExemplos:\\n\\n<missing-text>\\n\\n<missing-text>\\n\\nFundamentos da Programação Web Atividade Prática\\n\\nOu\\n\\n<missing-text>\\n\\n O tema do site: Portfólio pessoal (CV online).\\n\\nRequisitos:', 'file_name': 'ATIVIDADE_PRATICA_C1_2024.pdf', 'id': 2, 'length': 485, 'type': 'text'}, {'content': '<missing-text>\\n\\nFundamentos da Programação Web Atividade Prática\\n\\nATIVIDADE PRÁTICA\\n\\n1.  OBJETIVO\\n\\nAplicar os conceitos estudados na disciplina.\\n\\n2.  PROGRAMAS NECESSÁRIOS\\n\\nPara desenvolver esta atividade será necessário:\\n\\n ❖ HTML\\n\\n ❖ CSS\\n\\n ❖ JavaScript (livre)\\n\\n ❖ Acesso a um provedor de hospedagem gratuito.\\n\\n ❖ Um diagramador (IDE VS Code, por exemplo)\\n\\n3.  ORIENTAÇÕES GERAIS', 'file_name': 'ATIVIDADE_PRATICA_C1_2024.pdf', 'id': 1, 'length': 380, 'type': 'text'}, {'content': '4.  Entrega da atividade\\n\\nPostar os códigos no modelo de documento fornecido.  Identificar o nome do arquivo e copiar e colar utilizando o botão direito do mouse. Não esquecer de colocar o endereço de onde publicou o seu portfólio. A entrega do arquivo de ser docx ou pdf, mas recomendamos em pdf para evitar desconfigurações entre as versões e ou diferentes editores de texto utilizados.\\n\\n5.  Critérios de Avaliação', 'file_name': 'ATIVIDADE_PRATICA_C1_2024.pdf', 'id': 7, 'length': 416, 'type': 'text'}, {'content': '❖ Ao criar o seu usuário no servidor de hospedagem gratuito, utilize seu nome como parte do domínio.\\n\\nCUIDADO', 'file_name': 'ATIVIDADE_PRATICA_C1_2024.pdf', 'id': 5, 'length': 109, 'type': 'text'}, {'content': \"<missing-text>\\n\\nFundamentos da Programação Web Atividade Prática\\n\\nApresentou  somente  o  link  para  abrir  o  trabalho,  sem  enviar  o  código  solicitado  -  será descontado 50% da nota.\\n\\nApresentou somente o código sem o link com as páginas hospedadas na internet - desconto de 50% sobre a nota total\\n\\nNão colocou conteúdo ou utilizou o 'lorem ipsum' - desconto de 50% da nota.\", 'file_name': 'ATIVIDADE_PRATICA_C1_2024.pdf', 'id': 10, 'length': 382, 'type': 'text'}, {'content': 'Ou\\n\\n<missing-text>\\n\\n O tema do site: Portfólio pessoal (CV online).\\n\\nRequisitos:\\n\\n ❖ Um link Sobre mim: que fale sobre você, hobbies etc;\\n\\n ❖ Um link sobre sua formação educacional, idiomas;\\n\\n ❖ Um link com seu portfólio. Pode colocar links para outros sites que você tenha feito, ou com trabalhos que você tenha desenvolvido no curso em outras disciplinas. No decorrer da disciplina foram colocados exemplos de sites, você pode refazer esses exemplos e utilizar como portfólio.', 'file_name': 'ATIVIDADE_PRATICA_C1_2024.pdf', 'id': 3, 'length': 478, 'type': 'text'}]\n",
            "Similaridade: 1.0000\n"
          ]
        }
      ]
    },
    {
      "cell_type": "code",
      "source": [
        "collections = client.list_collections()\n",
        "print([collection.name for collection in collections])\n"
      ],
      "metadata": {
        "colab": {
          "base_uri": "https://localhost:8080/"
        },
        "id": "nLG8OtomQRDU",
        "outputId": "e9bc09e1-2f32-43e5-f2fe-073bf35f6932"
      },
      "execution_count": 17,
      "outputs": [
        {
          "output_type": "stream",
          "name": "stdout",
          "text": [
            "['novo']\n"
          ]
        }
      ]
    },
    {
      "cell_type": "code",
      "source": [
        "print(results['metadatas'])\n"
      ],
      "metadata": {
        "colab": {
          "base_uri": "https://localhost:8080/"
        },
        "id": "KXSHedXqQeZs",
        "outputId": "f42d2fbc-c296-49e9-99ca-66fadcf92c53"
      },
      "execution_count": 19,
      "outputs": [
        {
          "output_type": "stream",
          "name": "stdout",
          "text": [
            "[[{'content': '|    | Páginas   | Atendeu Totalmente  Valor  25  pontos  página                                                                                                                | cada  24  todos   | Atendeu  parcialmente  Valor de 1 a  pontos  cada página                               | Não atendeu  Valor  0  pontos  cada  página   | Nota  cada  página   |\\n|---:|:----------|:-------------------------------------------------------------------------------------------------------------------------------------------------------------|:------------------|:---------------------------------------------------------------------------------------|:----------------------------------------------|:---------------------|\\n|  0 | Sobre mim | Atendeu                                                                                                                                                      | os                | Atendeu                                                                                | Não  atendeu  os                              |                      |\\n|  1 | Formação  | requisitos                                                                                                                                                   | solicitados:      | parcialmente                                                                           | requisitos  solicitados                       |                      |\\n|  2 | Portfólio | seguiu  as  orientações  do                                                                                                                                  |                   | os requisitos                                                                          | ou não apresentou a                           |                      |\\n|  3 | Contato   | enunciado, o código possui  e                                                                                                                                |                   | solicitados,                                                                           | página solicitada                             |                      |\\n|  4 |           | comentários  funcionando corretamente,  os links estão funcionando  corretamente,  usou  sua  criatividade,  fez  uma  boa  diagramação,  colocou  conteúdo. | está              | indicados na  primeira  coluna,  a  nota  pode  variar de 1 a  24  pontos  por página. |                                               |                      |', 'file_name': 'ATIVIDADE_PRATICA_C1_2024.pdf', 'id': 12, 'index': 1, 'length': 5, 'type': 'table'}, {'content': \"Não colocou conteúdo ou utilizou o 'lorem ipsum' - desconto de 50% da nota.\\n\\nCaso poste o trabalho com link errado, perderá a nota, não será substituído o trabalho, nem será corrigido. Teste o link antes de enviar o trabalho.\\n\\nCaso poste o arquivo de entrega errado, não haverá possibilidade de substituição ou reenvio. Atenção na hora da postagem.\\n\\nTotal da Nota\", 'file_name': 'ATIVIDADE_PRATICA_C1_2024.pdf', 'id': 11, 'length': 363, 'type': 'text'}, {'content': '❖ Link  para  contato -  fazer  a  parte  visual  do  formulário.  (utilizar  inputs: nome, email, mensagem).\\n\\n ❖ Utilizar somente CSS, não pode utilizar bootstrap ou similares;\\n\\n ❖ Explicar seu código através de comentários, sem exageros;\\n\\n<missing-text>\\n\\nFundamentos da Programação Web Atividade Prática\\n\\n ❖ Não poderá utilizar Wix, WordPress e frameworks desse tipo. Deve ser desenvolvido com linguagem pura ( somente HTML e CSS ).', 'file_name': 'ATIVIDADE_PRATICA_C1_2024.pdf', 'id': 4, 'length': 434, 'type': 'text'}, {'content': 'Dicas:\\n\\n 1.  Capriche na diagramação, vai ser avaliado se está agradável visualmente.\\n\\n 2. Colocar  conteúdo ,  principalmente  nos  itens  sobre  você,  formação acadêmica e até experiência profissional se você tiver.\\n\\n 3.  Utilize o doctype html5\\n\\n 4. Não utilize bootstrap ou similares.\\n\\n<missing-text>\\n\\nApresentou código igual ao de outro colega ou copiado da internet - nota zero para ambos os alunos.\\n\\n<missing-text>\\n\\nFundamentos da Programação Web Atividade Prática', 'file_name': 'ATIVIDADE_PRATICA_C1_2024.pdf', 'id': 9, 'length': 472, 'type': 'text'}, {'content': 'CUIDADO\\n\\nEm  programação,  não  existem  dois  códigos  exatamente  iguais.  Cada programador organiza seu código de uma forma diferente, declara variáveis com nomes diferentes,  faz  comentários  diferentes,  gera  mensagens  aos usuários distintas etc. Por este motivo, e como a atividade é INDIVIDUAL, não serão aceitas páginas idênticas entre alunos (ou iguais à Internet). Caso o corretor observe respostas iguais, elas serão consideradas como PLÁGIO e será atribuída a NOTA ZERO na questão.', 'file_name': 'ATIVIDADE_PRATICA_C1_2024.pdf', 'id': 6, 'length': 496, 'type': 'text'}, {'content': '5.  Critérios de Avaliação\\n\\nPara que você obtenha a nota máxima na atividade, precisará cumprir todos os requisitos básicos explicados nas ORIENTAÇÕES GERAIS.\\n\\nOBS: Deverá  ser  entregue  no  link  \\'Trabalhos\\'.  Utilizando  o  modelo disponibilizado na aula 7 em \".docx\" (Word).\\n\\n<missing-text>\\n\\nFundamentos da Programação Web Atividade Prática\\n\\nDicas:\\n\\n 1.  Capriche na diagramação, vai ser avaliado se está agradável visualmente.', 'file_name': 'ATIVIDADE_PRATICA_C1_2024.pdf', 'id': 8, 'length': 431, 'type': 'text'}, {'content': '❖ Um diagramador (IDE VS Code, por exemplo)\\n\\n3.  ORIENTAÇÕES GERAIS\\n\\nDesenvolver um site, totalmente funcional, com no mínimo quatro links, conforme orientações, e publicá-lo num servidor de hospedagem gratuito. Procure  deixar  o  menu  visível  em  todas  as  páginas,  evite  o  uso  do VOLTAR do navegador.\\n\\nExemplos:\\n\\n<missing-text>\\n\\n<missing-text>\\n\\nFundamentos da Programação Web Atividade Prática\\n\\nOu\\n\\n<missing-text>\\n\\n O tema do site: Portfólio pessoal (CV online).\\n\\nRequisitos:', 'file_name': 'ATIVIDADE_PRATICA_C1_2024.pdf', 'id': 2, 'length': 485, 'type': 'text'}, {'content': '<missing-text>\\n\\nFundamentos da Programação Web Atividade Prática\\n\\nATIVIDADE PRÁTICA\\n\\n1.  OBJETIVO\\n\\nAplicar os conceitos estudados na disciplina.\\n\\n2.  PROGRAMAS NECESSÁRIOS\\n\\nPara desenvolver esta atividade será necessário:\\n\\n ❖ HTML\\n\\n ❖ CSS\\n\\n ❖ JavaScript (livre)\\n\\n ❖ Acesso a um provedor de hospedagem gratuito.\\n\\n ❖ Um diagramador (IDE VS Code, por exemplo)\\n\\n3.  ORIENTAÇÕES GERAIS', 'file_name': 'ATIVIDADE_PRATICA_C1_2024.pdf', 'id': 1, 'length': 380, 'type': 'text'}, {'content': '4.  Entrega da atividade\\n\\nPostar os códigos no modelo de documento fornecido.  Identificar o nome do arquivo e copiar e colar utilizando o botão direito do mouse. Não esquecer de colocar o endereço de onde publicou o seu portfólio. A entrega do arquivo de ser docx ou pdf, mas recomendamos em pdf para evitar desconfigurações entre as versões e ou diferentes editores de texto utilizados.\\n\\n5.  Critérios de Avaliação', 'file_name': 'ATIVIDADE_PRATICA_C1_2024.pdf', 'id': 7, 'length': 416, 'type': 'text'}, {'content': '❖ Ao criar o seu usuário no servidor de hospedagem gratuito, utilize seu nome como parte do domínio.\\n\\nCUIDADO', 'file_name': 'ATIVIDADE_PRATICA_C1_2024.pdf', 'id': 5, 'length': 109, 'type': 'text'}, {'content': \"<missing-text>\\n\\nFundamentos da Programação Web Atividade Prática\\n\\nApresentou  somente  o  link  para  abrir  o  trabalho,  sem  enviar  o  código  solicitado  -  será descontado 50% da nota.\\n\\nApresentou somente o código sem o link com as páginas hospedadas na internet - desconto de 50% sobre a nota total\\n\\nNão colocou conteúdo ou utilizou o 'lorem ipsum' - desconto de 50% da nota.\", 'file_name': 'ATIVIDADE_PRATICA_C1_2024.pdf', 'id': 10, 'length': 382, 'type': 'text'}, {'content': 'Ou\\n\\n<missing-text>\\n\\n O tema do site: Portfólio pessoal (CV online).\\n\\nRequisitos:\\n\\n ❖ Um link Sobre mim: que fale sobre você, hobbies etc;\\n\\n ❖ Um link sobre sua formação educacional, idiomas;\\n\\n ❖ Um link com seu portfólio. Pode colocar links para outros sites que você tenha feito, ou com trabalhos que você tenha desenvolvido no curso em outras disciplinas. No decorrer da disciplina foram colocados exemplos de sites, você pode refazer esses exemplos e utilizar como portfólio.', 'file_name': 'ATIVIDADE_PRATICA_C1_2024.pdf', 'id': 3, 'length': 478, 'type': 'text'}]]\n"
          ]
        }
      ]
    },
    {
      "cell_type": "code",
      "source": [
        "import cohere\n",
        "\n",
        "def search_and_generate_response(query, collection_name, cohere_api_key, n_results=2):\n",
        "    \"\"\"\n",
        "    Realiza busca no banco vetorial e gera uma resposta usando a LLM do Cohere.\n",
        "\n",
        "    Args:\n",
        "        query (str): A pergunta ou consulta do usuário.\n",
        "        collection_name (str): O nome da coleção no ChromaDB.\n",
        "        cohere_api_key (str): A chave de API do Cohere.\n",
        "        n_results (int): Número de resultados mais similares a buscar.\n",
        "\n",
        "    Returns:\n",
        "        str: A resposta gerada pela LLM do Cohere.\n",
        "    \"\"\"\n",
        "    # Inicializar o cliente Cohere\n",
        "    cohere_client = cohere.Client(api_key=cohere_api_key)\n",
        "\n",
        "    # Obter a coleção no ChromaDB\n",
        "    collection = client.get_collection(name=collection_name)\n",
        "\n",
        "    # Gerar embedding para a consulta\n",
        "    query_embedding = cohere_client.embed(\n",
        "        model=\"embed-multilingual-v2.0\",\n",
        "        texts=[query]\n",
        "    ).embeddings[0]\n",
        "\n",
        "    # Buscar os resultados mais similares no índice vetorial\n",
        "    results = collection.query(\n",
        "        query_embeddings=[query_embedding],\n",
        "        n_results=n_results\n",
        "    )\n",
        "\n",
        "    # Validar se há resultados\n",
        "    if not results or not results['metadatas']:\n",
        "        return \"Nenhum resultado relevante encontrado para a sua consulta.\"\n",
        "\n",
        "    # Construir o contexto com base nos resultados encontrados\n",
        "    context = \"\\n\".join(\n",
        "        f\"Trecho {outer_idx + 1}.{inner_idx + 1}: {item['content']}\"\n",
        "        for outer_idx, metadata_list in enumerate(results['metadatas'])\n",
        "        for inner_idx, item in enumerate(metadata_list)\n",
        "    )\n",
        "\n",
        "    # Criar o prompt para a LLM\n",
        "    prompt = f\"\"\"\n",
        "    Você é um assistente que responde perguntas, usando a arquitetura RAG. Você vai receber as pesquisas mais relevantes e precisa formular uma resposta para o usuário. Pode haver texto e tabelas nos dados fornecidos.\n",
        "\n",
        "    {context}\n",
        "\n",
        "    Pergunta do usuário: {query}\n",
        "\n",
        "    Responda de forma clara e completa com base nos trechos fornecidos.\n",
        "    \"\"\"\n",
        "\n",
        "    # Gerar a resposta usando a LLM do Cohere\n",
        "    response = cohere_client.generate(\n",
        "        model=\"command-r-plus-08-2024\",\n",
        "        prompt=prompt,\n",
        "        max_tokens=300,\n",
        "        temperature=0.7\n",
        "    )\n",
        "    return response.generations[0].text.strip()\n",
        "\n",
        "\n",
        "# Teste da Função\n",
        "collection_name = \"novo\"\n",
        "query = \"o que tem que fazer na atividade pratica?\"\n",
        "response = search_and_generate_response(query, collection_name, cohere_api_key)\n",
        "\n",
        "print(\"Resposta da IA:\\n\", response)\n"
      ],
      "metadata": {
        "id": "zzewNjIGTxbt",
        "colab": {
          "base_uri": "https://localhost:8080/"
        },
        "outputId": "e74a2034-d9fc-4cd9-fead-1c84c787c498"
      },
      "execution_count": 30,
      "outputs": [
        {
          "output_type": "stream",
          "name": "stdout",
          "text": [
            "Resposta da IA:\n",
            " A atividade prática visa aplicar os conceitos estudados na disciplina de Fundamentos da Programação Web, exigindo a criação de um formulário de contato visualmente atraente e funcional. Aqui está o que você precisa fazer:\n",
            "\n",
            "1. **Criação do Formulário de Contato:**\n",
            "   - Desenvolva um formulário de contato que inclua campos para nome, email e mensagem. Certifique-se de utilizar apenas HTML e CSS, sem o uso de frameworks como Bootstrap.\n",
            "   - O HTML será usado para estruturar o formulário e os campos de entrada.\n",
            "   - O CSS será responsável pelo estilo e layout visual do formulário.\n",
            "\n",
            "2. **Requisitos Técnicos:**\n",
            "   - **Linguagens:** Utilize apenas HTML e CSS para criar o formulário. Não é permitido o uso de frameworks como Bootstrap ou ferramentas semelhantes.\n",
            "   - **Estilização:** Crie uma aparência visual atraente para o formulário usando CSS. Garanta que os estilos sejam aplicados corretamente aos elementos do formulário.\n",
            "   - **Comentários no Código:** Explique seu código HTML e CSS usando comentários. Isso ajuda a compreender a estrutura e o propósito de cada parte do código.\n",
            "\n",
            "3. **Exemplo de Código:**\n",
            "\n",
            "```html\n",
            "<!-- Este é o formulário de contato -->\n",
            "<form action=\"enviar.php\" method=\"post\">\n",
            "  <label for=\"nome\">Nome:</label>\n",
            "  <input type=\"text\" id=\"nome\n"
          ]
        }
      ]
    },
    {
      "cell_type": "code",
      "source": [],
      "metadata": {
        "id": "W0A5O3fyRUp8"
      },
      "execution_count": null,
      "outputs": []
    }
  ]
}